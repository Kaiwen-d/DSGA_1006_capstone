{
 "cells": [
  {
   "cell_type": "code",
   "execution_count": 4,
   "metadata": {},
   "outputs": [
    {
     "name": "stdout",
     "output_type": "stream",
     "text": [
      "Defaulting to user installation because normal site-packages is not writeable\n",
      "Requirement already satisfied: datasets in /ext3/miniconda3/lib/python3.9/site-packages (1.12.1)\n",
      "Requirement already satisfied: dill in /ext3/miniconda3/lib/python3.9/site-packages (from datasets) (0.3.4)\n",
      "Requirement already satisfied: xxhash in /ext3/miniconda3/lib/python3.9/site-packages (from datasets) (2.0.2)\n",
      "Requirement already satisfied: aiohttp in /ext3/miniconda3/lib/python3.9/site-packages (from datasets) (3.8.1)\n",
      "Requirement already satisfied: pandas in /ext3/miniconda3/lib/python3.9/site-packages (from datasets) (1.4.4)\n",
      "Requirement already satisfied: pyarrow!=4.0.0,>=1.0.0 in /ext3/miniconda3/lib/python3.9/site-packages (from datasets) (3.0.0)\n",
      "Requirement already satisfied: numpy>=1.17 in /ext3/miniconda3/lib/python3.9/site-packages (from datasets) (1.23.3)\n",
      "Requirement already satisfied: multiprocess in /ext3/miniconda3/lib/python3.9/site-packages (from datasets) (0.70.12.2)\n",
      "Collecting huggingface-hub<0.1.0,>=0.0.14\n",
      "  Downloading huggingface_hub-0.0.19-py3-none-any.whl (56 kB)\n",
      "\u001b[2K     \u001b[90m━━━━━━━━━━━━━━━━━━━━━━━━━━━━━━━━━━━━━━━━\u001b[0m \u001b[32m56.9/56.9 kB\u001b[0m \u001b[31m2.0 MB/s\u001b[0m eta \u001b[36m0:00:00\u001b[0m\n",
      "\u001b[?25hRequirement already satisfied: requests>=2.19.0 in /ext3/miniconda3/lib/python3.9/site-packages (from datasets) (2.28.1)\n",
      "Requirement already satisfied: packaging in /ext3/miniconda3/lib/python3.9/site-packages (from datasets) (21.3)\n",
      "Collecting tqdm>=4.62.1\n",
      "  Using cached tqdm-4.64.1-py2.py3-none-any.whl (78 kB)\n",
      "Requirement already satisfied: fsspec[http]>=2021.05.0 in /ext3/miniconda3/lib/python3.9/site-packages (from datasets) (2022.10.0)\n",
      "Requirement already satisfied: multidict<7.0,>=4.5 in /ext3/miniconda3/lib/python3.9/site-packages (from aiohttp->datasets) (6.0.2)\n",
      "Requirement already satisfied: aiosignal>=1.1.2 in /ext3/miniconda3/lib/python3.9/site-packages (from aiohttp->datasets) (1.2.0)\n",
      "Requirement already satisfied: attrs>=17.3.0 in /ext3/miniconda3/lib/python3.9/site-packages (from aiohttp->datasets) (21.4.0)\n",
      "Requirement already satisfied: frozenlist>=1.1.1 in /ext3/miniconda3/lib/python3.9/site-packages (from aiohttp->datasets) (1.2.0)\n",
      "Requirement already satisfied: yarl<2.0,>=1.0 in /ext3/miniconda3/lib/python3.9/site-packages (from aiohttp->datasets) (1.8.1)\n",
      "Requirement already satisfied: charset-normalizer<3.0,>=2.0 in /ext3/miniconda3/lib/python3.9/site-packages (from aiohttp->datasets) (2.0.4)\n",
      "Requirement already satisfied: async-timeout<5.0,>=4.0.0a3 in /ext3/miniconda3/lib/python3.9/site-packages (from aiohttp->datasets) (4.0.2)\n",
      "Requirement already satisfied: filelock in /ext3/miniconda3/lib/python3.9/site-packages (from huggingface-hub<0.1.0,>=0.0.14->datasets) (3.6.0)\n",
      "Requirement already satisfied: typing-extensions in /ext3/miniconda3/lib/python3.9/site-packages (from huggingface-hub<0.1.0,>=0.0.14->datasets) (4.3.0)\n",
      "Requirement already satisfied: pyyaml in /ext3/miniconda3/lib/python3.9/site-packages (from huggingface-hub<0.1.0,>=0.0.14->datasets) (6.0)\n",
      "Requirement already satisfied: pyparsing!=3.0.5,>=2.0.2 in /ext3/miniconda3/lib/python3.9/site-packages (from packaging->datasets) (3.0.9)\n",
      "Requirement already satisfied: idna<4,>=2.5 in /ext3/miniconda3/lib/python3.9/site-packages (from requests>=2.19.0->datasets) (3.4)\n",
      "Requirement already satisfied: urllib3<1.27,>=1.21.1 in /ext3/miniconda3/lib/python3.9/site-packages (from requests>=2.19.0->datasets) (1.26.12)\n",
      "Requirement already satisfied: certifi>=2017.4.17 in /ext3/miniconda3/lib/python3.9/site-packages (from requests>=2.19.0->datasets) (2022.9.24)\n",
      "Requirement already satisfied: python-dateutil>=2.8.1 in /ext3/miniconda3/lib/python3.9/site-packages (from pandas->datasets) (2.8.2)\n",
      "Requirement already satisfied: pytz>=2020.1 in /ext3/miniconda3/lib/python3.9/site-packages (from pandas->datasets) (2022.1)\n",
      "Requirement already satisfied: six>=1.5 in /ext3/miniconda3/lib/python3.9/site-packages (from python-dateutil>=2.8.1->pandas->datasets) (1.16.0)\n",
      "Installing collected packages: tqdm, huggingface-hub\n",
      "\u001b[33m  WARNING: The script tqdm is installed in '/home/hw1685/.local/bin' which is not on PATH.\n",
      "  Consider adding this directory to PATH or, if you prefer to suppress this warning, use --no-warn-script-location.\u001b[0m\u001b[33m\n",
      "\u001b[0m\u001b[33m  WARNING: The script huggingface-cli is installed in '/home/hw1685/.local/bin' which is not on PATH.\n",
      "  Consider adding this directory to PATH or, if you prefer to suppress this warning, use --no-warn-script-location.\u001b[0m\u001b[33m\n",
      "\u001b[0m\u001b[31mERROR: pip's dependency resolver does not currently take into account all the packages that are installed. This behaviour is the source of the following dependency conflicts.\n",
      "transformers 4.24.0 requires huggingface-hub<1.0,>=0.10.0, but you have huggingface-hub 0.0.19 which is incompatible.\n",
      "sentence-transformers 2.2.2 requires huggingface-hub>=0.4.0, but you have huggingface-hub 0.0.19 which is incompatible.\u001b[0m\u001b[31m\n",
      "\u001b[0mSuccessfully installed huggingface-hub-0.0.19 tqdm-4.64.1\n",
      "Defaulting to user installation because normal site-packages is not writeable\n",
      "Requirement already satisfied: rouge_score in /ext3/miniconda3/lib/python3.9/site-packages (0.1.2)\n",
      "Requirement already satisfied: numpy in /ext3/miniconda3/lib/python3.9/site-packages (from rouge_score) (1.23.3)\n",
      "Requirement already satisfied: nltk in /ext3/miniconda3/lib/python3.9/site-packages (from rouge_score) (3.7)\n",
      "Requirement already satisfied: six>=1.14.0 in /ext3/miniconda3/lib/python3.9/site-packages (from rouge_score) (1.16.0)\n",
      "Requirement already satisfied: absl-py in /ext3/miniconda3/lib/python3.9/site-packages (from rouge_score) (1.3.0)\n",
      "Requirement already satisfied: click in /ext3/miniconda3/lib/python3.9/site-packages (from nltk->rouge_score) (8.0.4)\n",
      "Requirement already satisfied: regex>=2021.8.3 in /ext3/miniconda3/lib/python3.9/site-packages (from nltk->rouge_score) (2022.10.31)\n",
      "Requirement already satisfied: joblib in /ext3/miniconda3/lib/python3.9/site-packages (from nltk->rouge_score) (1.2.0)\n",
      "Requirement already satisfied: tqdm in /home/hw1685/.local/lib/python3.9/site-packages (from nltk->rouge_score) (4.64.1)\n"
     ]
    }
   ],
   "source": [
    "!pip install datasets\n",
    "!pip install rouge_score"
   ]
  },
  {
   "cell_type": "code",
   "execution_count": 7,
   "metadata": {},
   "outputs": [],
   "source": [
    "import numpy as np"
   ]
  },
  {
   "cell_type": "code",
   "execution_count": 98,
   "metadata": {},
   "outputs": [
    {
     "data": {
      "text/plain": [
       "Dataset({\n",
       "    features: ['document', 'summary', 'rouge_scores', 'entity_counts'],\n",
       "    num_rows: 1125\n",
       "})"
      ]
     },
     "execution_count": 98,
     "metadata": {},
     "output_type": "execute_result"
    }
   ],
   "source": [
    "from datasets import load_from_disk\n",
    "scored_dataset = load_from_disk(\"/scratch/hw1685/DSGA_1006_capstone/shard_0\")\n",
    "#/scratch/kd1860/DSGA_1006_capstone/dataset/processed_shards/shard_0\n",
    "scored_dataset"
   ]
  },
  {
   "cell_type": "code",
   "execution_count": 92,
   "metadata": {},
   "outputs": [
    {
     "data": {
      "text/plain": [
       "20"
      ]
     },
     "execution_count": 92,
     "metadata": {},
     "output_type": "execute_result"
    }
   ],
   "source": [
    "len(scored_dataset['document'][0])"
   ]
  },
  {
   "cell_type": "code",
   "execution_count": 93,
   "metadata": {},
   "outputs": [
    {
     "name": "stdout",
     "output_type": "stream",
     "text": [
      "[True, True, True, True, True, True, True, True, False, True, False, True, True, True, True, True, False, True, True, True]\n",
      "17\n"
     ]
    }
   ],
   "source": [
    "percentage = 0.7 #percentage to keep\n",
    "top = 5 # keep first t sentences \n",
    "row = scored_dataset['document'][0]\n",
    "pointers = [i for i in range(len(row)) if '|||||' in row[i]] #seperate articles\n",
    "scores = scored_dataset['rouge_scores'][0]\n",
    "filter = []\n",
    "score_splits = [sl.tolist()for sl in np.split(scores, pointers)]\n",
    "for a in range(len(score_splits)):\n",
    "  rest = score_splits[a][5:]\n",
    "  n_leave = int(len(rest)*percentage) #leave 0.8 percent of the rest of the sentences (except top sentences)\n",
    "  index_leave = sorted(range(len(rest)), key = lambda sub: rest[sub])[-n_leave:] #index of top n_leave scores\n",
    "  if len(score_splits[a])>=top:\n",
    "    filter.append([1]*top+[0]*len(rest))\n",
    "  else:\n",
    "    filter.append([1]*(len(score_splits[a])))\n",
    "  for i in index_leave:\n",
    "    filter[a][i+top] = 1\n",
    "#print(filter)\n",
    "filter = list(map(bool,sum(filter,[]))) #merge lists into one list\n",
    "filtered_sentetnces = np.array(row)[filter]\n",
    "filtered_scores = np.array(np.array(scores))[filter]\n",
    "print(filter)\n",
    "print(len(filtered_scores))"
   ]
  },
  {
   "cell_type": "code",
   "execution_count": 105,
   "metadata": {},
   "outputs": [],
   "source": [
    "def filter_sentence(document):\n",
    "  percentage = 0.7 #percentage to keep\n",
    "  top = 5 # keep first t sentences \n",
    "  sentences = document['document']\n",
    "  pointers = [i for i in range(len(sentences)) if '|||||' in sentences[i]] #seperate articles\n",
    "  scores = document['rouge_scores']\n",
    "  filter = []\n",
    "  score_splits = [sl.tolist()for sl in np.split(scores, pointers)]\n",
    "  for a in range(len(score_splits)):\n",
    "    rest = score_splits[a][5:]\n",
    "    n_leave = int(len(rest)*percentage) #leave 0.8 percent of the rest of the sentences (except top sentences)\n",
    "    index_leave = sorted(range(len(rest)), key = lambda sub: rest[sub])[-n_leave:] #index of top n_leave scores\n",
    "    if len(score_splits[a])>=top:\n",
    "      filter.append([1]*top+[0]*len(rest))\n",
    "    else:\n",
    "      filter.append([1]*(len(score_splits[a])))\n",
    "    for i in index_leave:\n",
    "      filter[a][i+top] = 1\n",
    "  filter = list(map(bool,sum(filter,[])))\n",
    "  filtered_sentetnces = np.array(sentences)[filter]\n",
    "  filtered_scores = np.array(np.array(scores))[filter]\n",
    "  document['document'] = filtered_sentetnces\n",
    "  document['rouge_scores'] = filtered_scores\n",
    "  return document"
   ]
  },
  {
   "cell_type": "code",
   "execution_count": 95,
   "metadata": {},
   "outputs": [
    {
     "data": {
      "text/plain": [
       "Dataset({\n",
       "    features: ['document', 'summary', 'rouge_scores', 'entity_counts'],\n",
       "    num_rows: 2\n",
       "})"
      ]
     },
     "execution_count": 95,
     "metadata": {},
     "output_type": "execute_result"
    }
   ],
   "source": [
    "small_dataset = scored_dataset.select(list(range(2)))\n",
    "small_dataset"
   ]
  },
  {
   "cell_type": "code",
   "execution_count": 60,
   "metadata": {},
   "outputs": [
    {
     "name": "stdout",
     "output_type": "stream",
     "text": [
      "            "
     ]
    },
    {
     "data": {
      "application/vnd.jupyter.widget-view+json": {
       "model_id": "64397cfe1bfc4a788d5fc2926d377e52",
       "version_major": 2,
       "version_minor": 0
      },
      "text/plain": [
       "#0:   0%|          | 0/113 [00:00<?, ?ex/s]"
      ]
     },
     "metadata": {},
     "output_type": "display_data"
    },
    {
     "name": "stdout",
     "output_type": "stream",
     "text": [
      " "
     ]
    },
    {
     "data": {
      "application/vnd.jupyter.widget-view+json": {
       "model_id": "6e61697169f04d128f87c5bc03591fcf",
       "version_major": 2,
       "version_minor": 0
      },
      "text/plain": [
       "#1:   0%|          | 0/113 [00:00<?, ?ex/s]"
      ]
     },
     "metadata": {},
     "output_type": "display_data"
    },
    {
     "data": {
      "application/vnd.jupyter.widget-view+json": {
       "model_id": "508140314536497ab243d3f98ef041f0",
       "version_major": 2,
       "version_minor": 0
      },
      "text/plain": [
       "#2:   0%|          | 0/113 [00:00<?, ?ex/s]"
      ]
     },
     "metadata": {},
     "output_type": "display_data"
    },
    {
     "name": "stdout",
     "output_type": "stream",
     "text": [
      " "
     ]
    },
    {
     "data": {
      "application/vnd.jupyter.widget-view+json": {
       "model_id": "3120c3f6197b455391bcef2103947742",
       "version_major": 2,
       "version_minor": 0
      },
      "text/plain": [
       "#3:   0%|          | 0/113 [00:00<?, ?ex/s]"
      ]
     },
     "metadata": {},
     "output_type": "display_data"
    },
    {
     "name": "stdout",
     "output_type": "stream",
     "text": [
      " "
     ]
    },
    {
     "data": {
      "application/vnd.jupyter.widget-view+json": {
       "model_id": "c75f4af415094101a8ec9f94a0634081",
       "version_major": 2,
       "version_minor": 0
      },
      "text/plain": [
       "#4:   0%|          | 0/113 [00:00<?, ?ex/s]"
      ]
     },
     "metadata": {},
     "output_type": "display_data"
    },
    {
     "name": "stdout",
     "output_type": "stream",
     "text": [
      "  "
     ]
    },
    {
     "data": {
      "application/vnd.jupyter.widget-view+json": {
       "model_id": "f6798adc337c44d8b005d2193545649f",
       "version_major": 2,
       "version_minor": 0
      },
      "text/plain": [
       "#5:   0%|          | 0/112 [00:00<?, ?ex/s]"
      ]
     },
     "metadata": {},
     "output_type": "display_data"
    },
    {
     "data": {
      "application/vnd.jupyter.widget-view+json": {
       "model_id": "db1fa5b69b114f8884dc6b5d702174ee",
       "version_major": 2,
       "version_minor": 0
      },
      "text/plain": [
       "#6:   0%|          | 0/112 [00:00<?, ?ex/s]"
      ]
     },
     "metadata": {},
     "output_type": "display_data"
    },
    {
     "name": "stdout",
     "output_type": "stream",
     "text": [
      " "
     ]
    },
    {
     "data": {
      "application/vnd.jupyter.widget-view+json": {
       "model_id": "1d30c6af789746058a0fe7182a51ebc8",
       "version_major": 2,
       "version_minor": 0
      },
      "text/plain": [
       "#7:   0%|          | 0/112 [00:00<?, ?ex/s]"
      ]
     },
     "metadata": {},
     "output_type": "display_data"
    },
    {
     "name": "stdout",
     "output_type": "stream",
     "text": [
      "  "
     ]
    },
    {
     "data": {
      "application/vnd.jupyter.widget-view+json": {
       "model_id": "bc4fd00ed3d042cea62481ba96e1967f",
       "version_major": 2,
       "version_minor": 0
      },
      "text/plain": [
       "#8:   0%|          | 0/112 [00:00<?, ?ex/s]"
      ]
     },
     "metadata": {},
     "output_type": "display_data"
    },
    {
     "data": {
      "application/vnd.jupyter.widget-view+json": {
       "model_id": "df2a55ca473c475b958bb12864613329",
       "version_major": 2,
       "version_minor": 0
      },
      "text/plain": [
       "#9:   0%|          | 0/112 [00:00<?, ?ex/s]"
      ]
     },
     "metadata": {},
     "output_type": "display_data"
    }
   ],
   "source": [
    "filtered_dataset = scored_dataset.map(filter_sentence, num_proc = 10)"
   ]
  },
  {
   "cell_type": "code",
   "execution_count": 99,
   "metadata": {},
   "outputs": [
    {
     "name": "stdout",
     "output_type": "stream",
     "text": [
      "            "
     ]
    },
    {
     "data": {
      "application/vnd.jupyter.widget-view+json": {
       "model_id": "8cd889f986c943b088831b2946a3d34a",
       "version_major": 2,
       "version_minor": 0
      },
      "text/plain": [
       "#0:   0%|          | 0/113 [00:00<?, ?ex/s]"
      ]
     },
     "metadata": {},
     "output_type": "display_data"
    },
    {
     "data": {
      "application/vnd.jupyter.widget-view+json": {
       "model_id": "1cced9e0cef84c559c09f2bd970240c9",
       "version_major": 2,
       "version_minor": 0
      },
      "text/plain": [
       "#1:   0%|          | 0/113 [00:00<?, ?ex/s]"
      ]
     },
     "metadata": {},
     "output_type": "display_data"
    },
    {
     "name": "stdout",
     "output_type": "stream",
     "text": [
      " "
     ]
    },
    {
     "data": {
      "application/vnd.jupyter.widget-view+json": {
       "model_id": "ba2bfb22f2544df4a733729bdc4113b3",
       "version_major": 2,
       "version_minor": 0
      },
      "text/plain": [
       "#2:   0%|          | 0/113 [00:00<?, ?ex/s]"
      ]
     },
     "metadata": {},
     "output_type": "display_data"
    },
    {
     "name": "stdout",
     "output_type": "stream",
     "text": [
      " "
     ]
    },
    {
     "data": {
      "application/vnd.jupyter.widget-view+json": {
       "model_id": "02ca001090394570b2a364ac769b386c",
       "version_major": 2,
       "version_minor": 0
      },
      "text/plain": [
       "#3:   0%|          | 0/113 [00:00<?, ?ex/s]"
      ]
     },
     "metadata": {},
     "output_type": "display_data"
    },
    {
     "name": "stdout",
     "output_type": "stream",
     "text": [
      "  "
     ]
    },
    {
     "data": {
      "application/vnd.jupyter.widget-view+json": {
       "model_id": "ca8b0073a03041149c9dea94224801da",
       "version_major": 2,
       "version_minor": 0
      },
      "text/plain": [
       "#4:   0%|          | 0/113 [00:00<?, ?ex/s]"
      ]
     },
     "metadata": {},
     "output_type": "display_data"
    },
    {
     "data": {
      "application/vnd.jupyter.widget-view+json": {
       "model_id": "3c0074b80d6743dd8a3465a6ce2e3e8d",
       "version_major": 2,
       "version_minor": 0
      },
      "text/plain": [
       "#5:   0%|          | 0/112 [00:00<?, ?ex/s]"
      ]
     },
     "metadata": {},
     "output_type": "display_data"
    },
    {
     "name": "stdout",
     "output_type": "stream",
     "text": [
      "  "
     ]
    },
    {
     "data": {
      "application/vnd.jupyter.widget-view+json": {
       "model_id": "332a794e96964c65b0c27959305feef1",
       "version_major": 2,
       "version_minor": 0
      },
      "text/plain": [
       "#6:   0%|          | 0/112 [00:00<?, ?ex/s]"
      ]
     },
     "metadata": {},
     "output_type": "display_data"
    },
    {
     "name": "stdout",
     "output_type": "stream",
     "text": [
      " "
     ]
    },
    {
     "data": {
      "application/vnd.jupyter.widget-view+json": {
       "model_id": "cc78fed7c38a46e09932752ad5e6c5e7",
       "version_major": 2,
       "version_minor": 0
      },
      "text/plain": [
       "#7:   0%|          | 0/112 [00:00<?, ?ex/s]"
      ]
     },
     "metadata": {},
     "output_type": "display_data"
    },
    {
     "name": "stdout",
     "output_type": "stream",
     "text": [
      " "
     ]
    },
    {
     "data": {
      "application/vnd.jupyter.widget-view+json": {
       "model_id": "e65536dc40824b33a817a717599840ca",
       "version_major": 2,
       "version_minor": 0
      },
      "text/plain": [
       "#8:   0%|          | 0/112 [00:00<?, ?ex/s]"
      ]
     },
     "metadata": {},
     "output_type": "display_data"
    },
    {
     "data": {
      "application/vnd.jupyter.widget-view+json": {
       "model_id": "ab79a75f0db144ada39143d9cea60295",
       "version_major": 2,
       "version_minor": 0
      },
      "text/plain": [
       "#9:   0%|          | 0/112 [00:00<?, ?ex/s]"
      ]
     },
     "metadata": {},
     "output_type": "display_data"
    }
   ],
   "source": [
    "filtered_dataset_7 = scored_dataset.map(filter_sentence, num_proc = 10)"
   ]
  },
  {
   "cell_type": "code",
   "execution_count": 106,
   "metadata": {},
   "outputs": [
    {
     "name": "stdout",
     "output_type": "stream",
     "text": [
      "            "
     ]
    },
    {
     "data": {
      "application/vnd.jupyter.widget-view+json": {
       "model_id": "15dc42adf7354759832c7172b5e422bf",
       "version_major": 2,
       "version_minor": 0
      },
      "text/plain": [
       "#0:   0%|          | 0/113 [00:00<?, ?ex/s]"
      ]
     },
     "metadata": {},
     "output_type": "display_data"
    },
    {
     "name": "stdout",
     "output_type": "stream",
     "text": [
      " "
     ]
    },
    {
     "data": {
      "application/vnd.jupyter.widget-view+json": {
       "model_id": "04900d3873d04fb7a39bc920b59a1c18",
       "version_major": 2,
       "version_minor": 0
      },
      "text/plain": [
       "#1:   0%|          | 0/113 [00:00<?, ?ex/s]"
      ]
     },
     "metadata": {},
     "output_type": "display_data"
    },
    {
     "name": "stdout",
     "output_type": "stream",
     "text": [
      " "
     ]
    },
    {
     "data": {
      "application/vnd.jupyter.widget-view+json": {
       "model_id": "920af0078d4043cdac08ee2a36ff8503",
       "version_major": 2,
       "version_minor": 0
      },
      "text/plain": [
       "#2:   0%|          | 0/113 [00:00<?, ?ex/s]"
      ]
     },
     "metadata": {},
     "output_type": "display_data"
    },
    {
     "name": "stdout",
     "output_type": "stream",
     "text": [
      " "
     ]
    },
    {
     "data": {
      "application/vnd.jupyter.widget-view+json": {
       "model_id": "ac3db6f9303344469f06d8f8ef528d72",
       "version_major": 2,
       "version_minor": 0
      },
      "text/plain": [
       "#3:   0%|          | 0/113 [00:00<?, ?ex/s]"
      ]
     },
     "metadata": {},
     "output_type": "display_data"
    },
    {
     "data": {
      "application/vnd.jupyter.widget-view+json": {
       "model_id": "f13a0907244c41e9a4a2b266825256a7",
       "version_major": 2,
       "version_minor": 0
      },
      "text/plain": [
       "#4:   0%|          | 0/113 [00:00<?, ?ex/s]"
      ]
     },
     "metadata": {},
     "output_type": "display_data"
    },
    {
     "name": "stdout",
     "output_type": "stream",
     "text": [
      " "
     ]
    },
    {
     "data": {
      "application/vnd.jupyter.widget-view+json": {
       "model_id": "1a785d3c4d644869b8797bb2173ec4e4",
       "version_major": 2,
       "version_minor": 0
      },
      "text/plain": [
       "#5:   0%|          | 0/112 [00:00<?, ?ex/s]"
      ]
     },
     "metadata": {},
     "output_type": "display_data"
    },
    {
     "name": "stdout",
     "output_type": "stream",
     "text": [
      "  "
     ]
    },
    {
     "data": {
      "application/vnd.jupyter.widget-view+json": {
       "model_id": "57d57058ffe14118a89cd0c06acbdb24",
       "version_major": 2,
       "version_minor": 0
      },
      "text/plain": [
       "#6:   0%|          | 0/112 [00:00<?, ?ex/s]"
      ]
     },
     "metadata": {},
     "output_type": "display_data"
    },
    {
     "name": "stdout",
     "output_type": "stream",
     "text": [
      " "
     ]
    },
    {
     "data": {
      "application/vnd.jupyter.widget-view+json": {
       "model_id": "fd6e1f81c35e4a3db2442bf5e64b0ed6",
       "version_major": 2,
       "version_minor": 0
      },
      "text/plain": [
       "#7:   0%|          | 0/112 [00:00<?, ?ex/s]"
      ]
     },
     "metadata": {},
     "output_type": "display_data"
    },
    {
     "name": "stdout",
     "output_type": "stream",
     "text": [
      " "
     ]
    },
    {
     "data": {
      "application/vnd.jupyter.widget-view+json": {
       "model_id": "09a450667cac4dfa8106846654cb2862",
       "version_major": 2,
       "version_minor": 0
      },
      "text/plain": [
       "#8:   0%|          | 0/112 [00:00<?, ?ex/s]"
      ]
     },
     "metadata": {},
     "output_type": "display_data"
    },
    {
     "data": {
      "application/vnd.jupyter.widget-view+json": {
       "model_id": "d6796850c17440ed8314403a28934a4e",
       "version_major": 2,
       "version_minor": 0
      },
      "text/plain": [
       "#9:   0%|          | 0/112 [00:00<?, ?ex/s]"
      ]
     },
     "metadata": {},
     "output_type": "display_data"
    }
   ],
   "source": [
    "filtered_dataset_6 = scored_dataset.map(filter_sentence, num_proc = 10)"
   ]
  },
  {
   "cell_type": "code",
   "execution_count": 97,
   "metadata": {},
   "outputs": [
    {
     "data": {
      "text/plain": [
       "['National Archives',\n",
       " 'Yes, it’s that time again, folks.',\n",
       " 'It’s the first Friday of the month, when for one ever-so-brief moment the interests of Wall Street, Washington and Main Street are all aligned on one thing: Jobs.',\n",
       " 'A fresh update on the U.S. employment situation for January hits the wires at 8:30 a.m.',\n",
       " 'New York time offering one of the most important snapshots on how the economy fared during the previous month.',\n",
       " 'Expectations are for 203,000 new jobs to be created, according to economists polled by Dow Jones Newswires, compared to 227,000 jobs added in February.',\n",
       " 'The unemployment rate is expected to hold steady at 8.3%.',\n",
       " 'Here at MarketBeat HQ, we’ll be offering color commentary before and after the data crosses the wires.',\n",
       " 'And while you’re here, why don’t you sign up to follow us on Twitter.',\n",
       " '||||| Employers pulled back sharply on hiring last month, a reminder that the U.S. economy may not be growing fast enough to sustain robust job growth.',\n",
       " 'The unemployment rate dipped, but mostly because more Americans stopped looking for work.',\n",
       " 'The Labor Department says the economy added 120,000 jobs in March, down from more than 200,000 in each of the previous three months.',\n",
       " 'The unemployment rate fell to 8.2 percent, the lowest since January 2009.',\n",
       " 'The rate dropped because fewer people searched for jobs.',\n",
       " 'The economy has added 858,000 jobs since December _',\n",
       " 'the best four months of hiring in two years.',\n",
       " 'But Federal Reserve Chairman Ben Bernanke has cautioned that the current hiring pace is unlikely to continue without more consumer spending.']"
      ]
     },
     "execution_count": 97,
     "metadata": {},
     "output_type": "execute_result"
    }
   ],
   "source": [
    "filtered_dataset['document'][0]"
   ]
  },
  {
   "cell_type": "code",
   "execution_count": 51,
   "metadata": {},
   "outputs": [],
   "source": [
    "import matplotlib.pyplot as plt"
   ]
  },
  {
   "cell_type": "code",
   "execution_count": 65,
   "metadata": {},
   "outputs": [
    {
     "data": {
      "image/png": "[encoded data removed]",
      "text/plain": [
       "<Figure size 432x288 with 1 Axes>"
      ]
     },
     "metadata": {
      "needs_background": "light"
     },
     "output_type": "display_data"
    }
   ],
   "source": [
    "rouge_score_all = np.array([item for sublist in scored_dataset['rouge_scores'] for item in sublist])\n",
    "plt.hist(rouge_score_all, bins=50, alpha=0.5)\n",
    "plt.xlim([min(rouge_score_all)-0.01, 0.1])\n",
    "plt.ylabel('count')\n",
    "plt.xlabel('rouge score')\n",
    "plt.title('Rouge score frequency before filtering')\n",
    "plt.show()"
   ]
  },
  {
   "cell_type": "code",
   "execution_count": 80,
   "metadata": {},
   "outputs": [
    {
     "data": {
      "text/plain": [
       "0.39996357832267465"
      ]
     },
     "execution_count": 80,
     "metadata": {},
     "output_type": "execute_result"
    }
   ],
   "source": [
    "len(np.array(rouge_score_all)[rouge_score_all<0.01])/len(rouge_score_all)"
   ]
  },
  {
   "cell_type": "code",
   "execution_count": 126,
   "metadata": {},
   "outputs": [
    {
     "data": {
      "text/plain": [
       "0.19595933626849205"
      ]
     },
     "execution_count": 126,
     "metadata": {},
     "output_type": "execute_result"
    }
   ],
   "source": [
    "len(np.array(rouge_score_all)[rouge_score_all<0.005])/len(rouge_score_all)"
   ]
  },
  {
   "cell_type": "code",
   "execution_count": 127,
   "metadata": {},
   "outputs": [
    {
     "name": "stdout",
     "output_type": "stream",
     "text": [
      "['National Archives']\n",
      "['Minutes later she was unresponsive.']\n",
      "['Invalid email address.' 'Please re-enter.' 'Thank you for subscribing.'\n",
      " 'An error has occurred.' 'Please try again later.']\n",
      "['\"It was kind of wrenching.\"']\n",
      "['Learn more']\n",
      "['The panel will reconvene Monday.' 'Ellis approved the request.' 'More:'\n",
      " 'But you know what?' '\"I imagine they would, too.\"'\n",
      " 'Online: https://apnews.com/8b1cea8ba9ba49f98e06c77782add2ba']\n",
      "['Prosecutors opposed the delay.' 'He took no questions.'\n",
      " 'sigc@express-news.net']\n"
     ]
    }
   ],
   "source": [
    "#n = 0\n",
    "for n in [0,1,3,4,6,7,10]:\n",
    "    print(np.array(scored_dataset['document'][n])[np.array(scored_dataset['rouge_scores'][n])<0.005])"
   ]
  },
  {
   "cell_type": "code",
   "execution_count": 66,
   "metadata": {},
   "outputs": [
    {
     "data": {
      "image/png": "[encoded data removed]",
      "text/plain": [
       "<Figure size 432x288 with 1 Axes>"
      ]
     },
     "metadata": {
      "needs_background": "light"
     },
     "output_type": "display_data"
    }
   ],
   "source": [
    "rouge_score_filtered = np.array([item for sublist in filtered_dataset['rouge_scores'] for item in sublist])\n",
    "plt.hist(rouge_score_filtered, bins=50, alpha=0.5)\n",
    "plt.xlim([min(rouge_score_filtered)-0.01, 0.1])\n",
    "plt.ylabel('count')\n",
    "plt.xlabel('rouge score')\n",
    "plt.title('Rouge score frequency after filtering out 20%')\n",
    "plt.show()"
   ]
  },
  {
   "cell_type": "code",
   "execution_count": 100,
   "metadata": {},
   "outputs": [
    {
     "data": {
      "image/png": "[encoded data removed]",
      "text/plain": [
       "<Figure size 432x288 with 1 Axes>"
      ]
     },
     "metadata": {
      "needs_background": "light"
     },
     "output_type": "display_data"
    }
   ],
   "source": [
    "rouge_score_filtered7 = np.array([item for sublist in filtered_dataset_7['rouge_scores'] for item in sublist])\n",
    "plt.hist(rouge_score_filtered7, bins=50, alpha=0.5)\n",
    "plt.xlim([min(rouge_score_filtered7)-0.01, 0.1])\n",
    "plt.ylabel('count')\n",
    "plt.xlabel('rouge score')\n",
    "plt.title('Rouge score frequency after filtering out 30%')\n",
    "plt.show()"
   ]
  },
  {
   "cell_type": "code",
   "execution_count": 107,
   "metadata": {},
   "outputs": [
    {
     "data": {
      "image/png": "[encoded data removed]",
      "text/plain": [
       "<Figure size 432x288 with 1 Axes>"
      ]
     },
     "metadata": {
      "needs_background": "light"
     },
     "output_type": "display_data"
    }
   ],
   "source": [
    "rouge_score_filtered6 = np.array([item for sublist in filtered_dataset_6['rouge_scores'] for item in sublist])\n",
    "plt.hist(rouge_score_filtered6, bins=50, alpha=0.5)\n",
    "plt.xlim([min(rouge_score_filtered6)-0.01, 0.1])\n",
    "plt.ylabel('count')\n",
    "plt.xlabel('rouge score')\n",
    "plt.title('Rouge score frequency after filtering out 40%')\n",
    "plt.show()"
   ]
  },
  {
   "cell_type": "code",
   "execution_count": 133,
   "metadata": {},
   "outputs": [
    {
     "data": {
      "text/plain": [
       "['Pope Francis joined the—now truly #blessed—Instagram community on Saturday, posting his first photo on the popular app.',\n",
       " '“Pray for me,” the caption says, repeated in eight other languages.',\n",
       " 'The photo, posted with the handle @franciscus, shows Francis kneeling with his head bowed in prayer.',\n",
       " '“I am beginning a new journey, on Instagram, to walk with you along the path of mercy and the tenderness of God,” Francis posted on Saturday on Twitter, where he has more than 8.89 million followers.',\n",
       " '“Watching Pope Francis post his first photo to Instagram today was an incredible moment.',\n",
       " '@franciscus, welcome to the Instagram community!',\n",
       " 'Your messages of humility, compassion and mercy will leave a lasting mark,” Instagram CEO and co-founder Kevin Systrom posted on Instagram on Saturday.',\n",
       " 'The Brief Newsletter Sign up to receive the top stories you need to know right now.',\n",
       " 'View Sample Sign Up Now \\n \\n Systrom met with Pope Francis at the Vatican last month to discuss the unifying power of images, giving him a curated book of Instagram photos during the visit.',\n",
       " '||||| Pope Francis hit one million Instagram followers within 12 hours of launching his account.',\n",
       " \"Pope Francis' new account was christened on Saturday with a photo of him kneeling in prayer.\",\n",
       " 'The accompanying message said \"pray for me\" in 9 languages.',\n",
       " 'It was not a selfie.',\n",
       " 'His new account broke a record for getting one million followers -- the previous record was 24 hours held by David Beckham.',\n",
       " 'The Pope\\'s Instagram handle is \"Franciscus.\"',\n",
       " 'While the account will be separate from the official Vatican account, it will be maintained by members of the Vatican -- his Twitter account is also maintained by other people.',\n",
       " \"News of the Pope's plans to join Instagram broke Thursday and came just weeks after his meeting with Instagram CEO Kevin Systrom.\",\n",
       " 'During their meeting in late February, the two discussed \"the power of images to unite people across different cultures and languages.\"',\n",
       " 'They also talked about the possibility that the Pope would join the image-based social media platform, according to a spokesperson from Instagram.',\n",
       " \"Related: Apple CEO Time Cook met with Pope Francis at the Vatican \\n \\n Systrom was on hand when the Pope's first Instagram photo went live.\",\n",
       " 'A photo posted by Pope Francis (@franciscus) on Mar 19, 2016 at 4:24am PDT \\n \\n The CEO also commemorated the moment with a photo -- of him shaking hands with the Pope.',\n",
       " 'Francis post his first photo to Instagram today was an incredible moment.',\n",
       " 'Your messages of humility, compassion and mercy will leave a lasting mark.',\n",
       " 'A photo posted by Kevin Systrom (@kevin) on Mar 19, 2016 at 4:33am PDT \\n \\n He included this message: \"Watching Pope Francis post his first photo to Instagram today was an incredible moment.',\n",
       " 'Your messages of humility, compassion and mercy will leave a lasting mark.\"',\n",
       " \"Saturday's post comes on the third anniversary of Pope Francis' papal inauguration.\",\n",
       " 'His time as Pope has been marked by an embrace of social media as a way to communicate with Catholic followers around the world.',\n",
       " 'Joining Instagram was a particularly smart move since, according to a spokesperson, the platform has been quickly gaining popularity in countries with a large Catholic presence such as Mexico, France, Italy and Brazil.',\n",
       " 'And users were engaging with the Pope on the platform long before he launched his account.',\n",
       " 'According to Instagram, his visit to the U.S. in the fall of 2015 generated 21 million posts, likes and comments from nine million people.',\n",
       " '||||| Tweet with a location \\n \\n You can add location information to your Tweets, such as your city or precise location, from the web and via third-party applications.',\n",
       " 'You always have the option to delete your Tweet location history.',\n",
       " 'Learn more']"
      ]
     },
     "execution_count": 133,
     "metadata": {},
     "output_type": "execute_result"
    }
   ],
   "source": [
    "filtered_dataset['document'][6]"
   ]
  }
 ],
 "metadata": {
  "kernelspec": {
   "display_name": "Python 3",
   "language": "python",
   "name": "python3"
  },
  "language_info": {
   "codemirror_mode": {
    "name": "ipython",
    "version": 3
   },
   "file_extension": ".py",
   "mimetype": "text/x-python",
   "name": "python",
   "nbconvert_exporter": "python",
   "pygments_lexer": "ipython3",
   "version": "3.8.6"
  }
 },
 "nbformat": 4,
 "nbformat_minor": 4
}
