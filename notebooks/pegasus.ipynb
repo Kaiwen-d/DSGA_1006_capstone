{
 "cells": [
  {
   "cell_type": "code",
   "execution_count": 1,
   "metadata": {},
   "outputs": [],
   "source": [
    "from transformers import PegasusForConditionalGeneration, PegasusTokenizer\n",
    "from datasets import load_from_disk\n",
    "import torch\n"
   ]
  },
  {
   "cell_type": "code",
   "execution_count": 27,
   "metadata": {},
   "outputs": [
    {
     "name": "stderr",
     "output_type": "stream",
     "text": [
      "WARNING:datasets.builder:Found cached dataset multi_news (/home/kd1860/.cache/huggingface/datasets/multi_news/default/1.0.0/2f1f69a2bedc8ad1c5d8ae5148e4755ee7095f465c1c01ae8f85454342065a72)\n"
     ]
    }
   ],
   "source": [
    "from datasets import load_dataset\n",
    "dataset = load_dataset('multi_news', split='train').shard(num_shards=40, index=0)"
   ]
  },
  {
   "cell_type": "code",
   "execution_count": 19,
   "metadata": {},
   "outputs": [],
   "source": [
    "shard = load_from_disk(\"/scratch/kd1860/DSGA_1006_capstone/dataset/processed_shards/shard_0\")"
   ]
  },
  {
   "cell_type": "code",
   "execution_count": 14,
   "metadata": {},
   "outputs": [],
   "source": [
    "model_name = \"google/pegasus-multi_news\"\n",
    "device = \"cuda\" if torch.cuda.is_available() else \"cpu\"\n",
    "tokenizer = PegasusTokenizer.from_pretrained(model_name)\n",
    "model = PegasusForConditionalGeneration.from_pretrained(model_name).to(device)"
   ]
  },
  {
   "cell_type": "code",
   "execution_count": 15,
   "metadata": {},
   "outputs": [],
   "source": [
    "def generate_summary(document):\n",
    "    result = []\n",
    "    for text in document['document']:\n",
    "        batch = tokenizer(''.join(text), truncation=True, padding=\"longest\", return_tensors=\"pt\").to(device)\n",
    "        translated = model.generate(**batch)\n",
    "        result.extend(tokenizer.batch_decode(translated, skip_special_tokens=True))\n",
    "    document['pred'] = result\n",
    "    return document"
   ]
  },
  {
   "cell_type": "code",
   "execution_count": 16,
   "metadata": {},
   "outputs": [
    {
     "data": {
      "application/vnd.jupyter.widget-view+json": {
       "model_id": "9f420416a4c0439e936450c9ac2909ac",
       "version_major": 2,
       "version_minor": 0
      },
      "text/plain": [
       "  0%|          | 0/3 [00:00<?, ?ex/s]"
      ]
     },
     "metadata": {},
     "output_type": "display_data"
    },
    {
     "name": "stderr",
     "output_type": "stream",
     "text": [
      "/ext3/miniconda3/lib/python3.9/site-packages/transformers/generation_utils.py:1359: UserWarning: Neither `max_length` nor `max_new_tokens` has been set, `max_length` will default to 256 (`self.config.max_length`). Controlling `max_length` via the config is deprecated and `max_length` will be removed from the config in v5 of Transformers -- we recommend using `max_new_tokens` to control the maximum length of the generation.\n",
      "  warnings.warn(\n"
     ]
    }
   ],
   "source": [
    "result = shard.select(range(3)).map(generate_summary)"
   ]
  },
  {
   "cell_type": "code",
   "execution_count": 22,
   "metadata": {},
   "outputs": [
    {
     "data": {
      "text/plain": [
       "[\"Polls and race analysts suggest that only three of tonight's contests are considered competitive, all in states where incumbent Democratic governors aren't running again: Montana, New Hampshire and Washington.\",\n",
       " 'Three Republican governors, including Rick Scott of Florida and Scott Walker of Wisconsin, rejected a share of the money citing debt and deficit concerns.',\n",
       " \"State-By-State View \\n \\n North Carolina: One-term incumbent Democratic Gov. Beverly Perdue, the first woman to hold the state's top office, announced in January that she would not seek re-election after polls showed her with high disapproval ratings and trailing Republican candidate Pat McCrory.\",\n",
       " 'McCrory lost a close race to Perdue in 2008, when then-presidential candidate Barack Obama became the first Democrat to win North Carolina in more than three decades.',\n",
       " 'New Hampshire: Former Democratic state Sen. Maggie Hassan has also promised a continuation of the policies of her predecessor, retiring Democratic Gov. John Lynch.',\n",
       " 'Her opponent is lawyer Ovide Lamontagne, a Tea Party conservative who ran unsuccessfully for governor in 1996 and for the U.S. Senate in 2010.',\n",
       " \"Washington: The state's governorship has been in Democratic hands for 32 years, and former U.S. Rep. Jay Inslee is in a dead-heat battle to keep it that way.\",\n",
       " \"Polls and race analysts suggest that only three of tonight's contests are considered competitive, all in states where incumbent Democratic governors aren't running again: Montana, New Hampshire and Washington.\",\n",
       " 'Three Republican governors, including Rick Scott of Florida and Scott Walker of Wisconsin, rejected a share of the money citing debt and deficit concerns.',\n",
       " \"State-by-State View \\n \\n North Carolina: One-term incumbent Democratic Gov. Beverly Perdue, the first woman to hold the state's top office, announced in January she would not seek re-election after polls showed her with high disapproval ratings and trailing Republican candidate Pat McCrory.\",\n",
       " 'McCrory lost a close race to Perdue in 2008, when then-presidential candidate Barack Obama became the first Democrat to win North Carolina in more than three decades.',\n",
       " 'New Hampshire: Former Democratic state Sen. Maggie Hassan has also promised a continuation of the policies of her predecessor, retiring Democratic Gov. John Lynch.',\n",
       " 'Her opponent is lawyer Ovide Lamontagne, a Tea Party conservative who ran unsuccessfully for governor in 1996 and for the U.S. Senate in 2010.',\n",
       " \"Washington: The state's governorship has been in Democratic hands for 32 years, and former Rep. Jay Inslee is in a dead-heat battle to keep it that way.\"]"
      ]
     },
     "execution_count": 22,
     "metadata": {},
     "output_type": "execute_result"
    }
   ],
   "source": [
    "result['document'][0][1]"
   ]
  },
  {
   "cell_type": "code",
   "execution_count": 23,
   "metadata": {},
   "outputs": [
    {
     "data": {
      "text/plain": [
       "\"– It's Election Day, which means it's time for you to chime in with your thoughts on who's going to be the next governor of Montana, New Hampshire, or Washington. Here's what you need to know: It's a dead heat: Democrat Jay Inslee and Tea Party favorite Ovide Lamontagne are in a dead heat in the race for governor of Washington, the state has been in Democratic hands for 32 years. It's a close race: Former Democratic state Sen. Maggie Hassan has promised a continuation of the policies of her predecessor, retiring Democratic Gov. John Lynch. Her opponent is lawyer Ovide Lamontagne, a Tea Party conservative who ran unsuccessfully for governor in 1996 and for the US Senate in 2010. Polls and race analysts suggest that only three of tonight's contests are considered competitive, all in states where incumbent Democratic governors aren't running again: Montana, New Hampshire, and Washington. Three Republican governors, including Rick Scott of Florida and Scott Walker of Wisconsin, rejected a share of the money citing debt and deficit concerns. North Carolina: One-term incumbent Democratic Gov. Beverly Perdue, the first woman to hold the state's top office, announced in January that she would not seek re-election after polls\""
      ]
     },
     "execution_count": 23,
     "metadata": {},
     "output_type": "execute_result"
    }
   ],
   "source": [
    "result[0]['pred'][1]"
   ]
  },
  {
   "cell_type": "code",
   "execution_count": 19,
   "metadata": {},
   "outputs": [
    {
     "data": {
      "text/plain": [
       "'– It\\'s a race for the governor\\'s mansion in 11 states today, and the GOP could end the night at the helm of more than two-thirds of the 50 states. The GOP currently controls 29 of the country\\'s top state offices; it\\'s expected to keep the three Republican ones that are up for grabs (Utah, North Dakota, and Indiana), and wrest North Carolina from the Dems. That brings its toll to 30, with the potential to take three more, reports NPR. Races in Montana, New Hampshire, and Washington are still too close to call, and in all three, Democrat incumbents aren\\'t seeking reelection. The results could have a big impact on health care, since a Supreme Court ruling grants states the ability to opt out of ObamaCare\\'s Medicaid expansion. \"A Romney victory would dramatically empower Republican governors,\" said one analyst. Click for NPR\\'s state-by-state breakdown of what could happen.'"
      ]
     },
     "execution_count": 19,
     "metadata": {},
     "output_type": "execute_result"
    }
   ],
   "source": [
    "result[0]['summary']"
   ]
  },
  {
   "cell_type": "code",
   "execution_count": 2,
   "metadata": {},
   "outputs": [],
   "source": [
    "from rouge_score import rouge_scorer\n",
    "scorer = rouge_scorer.RougeScorer(['rouge1','rouge2', 'rougeL'], use_stemmer=True)"
   ]
  },
  {
   "cell_type": "code",
   "execution_count": 3,
   "metadata": {},
   "outputs": [],
   "source": [
    "from datasets import load_from_disk\n",
    "pegasus_result= load_from_disk(\"/scratch/kd1860/DSGA_1006_capstone/dataset/pegasus_multi_news/shard_0\")"
   ]
  },
  {
   "cell_type": "code",
   "execution_count": 18,
   "metadata": {},
   "outputs": [
    {
     "ename": "NameError",
     "evalue": "name 'pegasus_result' is not defined",
     "output_type": "error",
     "traceback": [
      "\u001b[0;31m---------------------------------------------------------------------------\u001b[0m",
      "\u001b[0;31mNameError\u001b[0m                                 Traceback (most recent call last)",
      "Cell \u001b[0;32mIn [18], line 2\u001b[0m\n\u001b[1;32m      1\u001b[0m \u001b[38;5;66;03m# topic 1\u001b[39;00m\n\u001b[0;32m----> 2\u001b[0m \u001b[43mpegasus_result\u001b[49m[\u001b[38;5;124m'\u001b[39m\u001b[38;5;124mdocument\u001b[39m\u001b[38;5;124m'\u001b[39m][\u001b[38;5;241m0\u001b[39m][\u001b[38;5;241m0\u001b[39m]\n",
      "\u001b[0;31mNameError\u001b[0m: name 'pegasus_result' is not defined"
     ]
    }
   ],
   "source": [
    "# topic 1\n",
    "pegasus_result['document'][0][0]"
   ]
  },
  {
   "cell_type": "code",
   "execution_count": 95,
   "metadata": {},
   "outputs": [
    {
     "data": {
      "text/plain": [
       "['After its acquisition of satellite television service DirecTV, telephone giant AT&T Inc. might be setting its sights on an even bigger prize, Time Warner Inc. \\n \\n Bloomberg News reported Thursday afternoon that AT&T and Time Warner executives have engaged in preliminary talks about a potential merger or other partnerships. \\n \\n ',\n",
       " 'Such a combination would transform AT&T, based in Dallas, into a communications and entertainment colossus with multiple distribution outlets — including one of the nation’s largest mobile phone networks — and some of the most prestigious television channels in the business.',\n",
       " 'Warner Bros. also has a rich library of characters, including DC Comics and such cartoon characters as Scooby-Doo and the Looney Tunes zoo, including Bugs Bunny and Sylvester the Cat. \\n \\n ',\n",
       " 'In some ways, AT&T-Time Warner would resemble cable giant Comcast, which owns NBCUniversal — but AT&T would be even bigger with its mobile phone operations.',\n",
       " 'AT&T already operates the nation’s largest pay-TV service with more than 25 million customers.',\n",
       " 'Like other telecommunications companies, AT&T has been eager to expand into the entertainment business as its mobile phone market matures.',\n",
       " 'Owning content has become more valuable as more consumers, especially younger ones, watch entertainment on their phones.',\n",
       " 'Later this year the company plans to roll out a streaming service of TV channels to compete with traditional TV operators.',\n",
       " 'AT&T has been working with an executive with considerable chops in Hollywood,',\n",
       " 'He and AT&T have partnered on several ventures, including Otter Media, suggesting that Chernin might play a role in the talks with Time Warner. \\n \\n ',\n",
       " 'It would come during a changing of the guard in Washington and it’s unclear whether regulators within a Donald Trump or Hillary Clinton administration would consent to such a dramatic consolidation. \\n \\n ',\n",
       " 'The discussions come two years after Time Warner warded off a hostile takeover bid from Rupert Murdoch and his sons at 21st Century Fox.',\n",
       " 'In addition, Fox investors got nervous about the acquisition, sending its shares down. \\n \\n ',\n",
       " 'Time Warner, in recent years, has accelerated its push into digital media, launching HBO Now nearly 18 months ago.',\n",
       " 'This summer, Time Warner took a 10% stake in the streaming service Hulu, which is owned by NBCUniversal, 21st Century Fox and Walt Disney. \\n \\n ',\n",
       " '\\n \\n See the most-read stories in Entertainment this hour » \\n \\n CAPTION Justin Chang and Glenn Whipp talk about the top contenders of the awards season, including \"Call Me by Your Name\" and \"The Florida Project.\"',\n",
       " 'Justin Chang and Glenn Whipp talk about the top contenders of the awards season, including \"Call Me by Your Name\" and \"The Florida Project.\"',\n",
       " 'CAPTION Justin Chang and Glenn Whipp talk about the top contenders of the awards season, including \"Call Me by Your Name\" and \"The Florida Project.\"',\n",
       " 'Justin Chang and Glenn Whipp talk about the top contenders of the awards season, including \"Call Me by Your Name\" and \"The Florida Project.\"',\n",
       " \"CAPTION Justin Chang and Glenn Whipp on what critics awards mean for the Oscars, factoring in the academy's expanding membership.\",\n",
       " \"Justin Chang and Glenn Whipp on what critics awards mean for the Oscars, factoring in the academy's expanding membership.\",\n",
       " 'Two men return home from World War II to work on a farm, where they struggle to deal with racism and adjusting to life after war in \"Mudbound.\"',\n",
       " 'Neubert Two men return home from World War II to work on a farm, where they struggle to deal with racism and adjusting to life after war in \"Mudbound.\"',\n",
       " 'It\\'s quite the challenge trying to interview the energetic child stars of \"The Florida Project.\"',\n",
       " 'It\\'s quite the challenge trying to interview the energetic child stars of \"The Florida Project.\"',\n",
       " 'CAPTION Director Dee Rees talks about casting Mary J. Blige, Carey Mulligan and Jason Mitchell for her film \"Mudbound.\"',\n",
       " 'After loving Mitchell\\'s performance in \"Straight Outta Compton,\" Rees said, \"I\\'d be so lucky to get him in my film.\"',\n",
       " 'Director Dee Rees talks about casting Mary J. Blige, Carey Mulligan and Jason Mitchell for her film \"Mudbound.\"',\n",
       " 'After loving Mitchell\\'s performance in \"Straight Outta Compton,\" Rees said, \"I\\'d be so lucky to get him in my film.\"',\n",
       " \"\\n \\n meg.james@latimes.com \\n \\n @MegJamesLAT \\n \\n ALSO \\n \\n Final Trump-Clinton face-off draws 71.6 million viewers, third-most-watched presidential debate in history \\n \\n Verizon says it'll take a while to figure out how the Yahoo hack affects their deal \\n \\n New Teslas will have all the hardware to be driverless cars, Elon Musk says \\n \\n UPDATES: \\n \\n 3:30 p.m.\",\n",
       " 'This article was updated with additional information about AT&T’s business ventures. \\n \\n ',\n",
       " 'This article was first published at 2:35 p.m. ||||| (Reuters) - Senior executives of telecommunications company AT&T; Inc (T.N) and media conglomerate Time Warner Inc TWX.N have discussed various business strategies including a possible merger in recent weeks, Bloomberg reported on Thursday, citing people it said were familiar with the matter. \\n \\n ',\n",
       " 'A deal would be one of the largest in recent years in the sector as telecom companies make a land grab for media firms in order to get hold of valuable content. \\n \\n ',\n",
       " 'Time Warner shares jumped 4.7 percent in regular trading and slightly extended gains after hours.',\n",
       " 'Time Warner is attractive because of its premium cable channel HBO, the CNN news network, film studio Warner Bros and other media assets. \\n \\n ',\n",
       " 'AT&T;, which sells wireless phone and broadband services, may be looking to emulate cable company Comcast Corp (CMCSA.O), which acquired NBCUniversal and DreamWorks Animation in a bid to become a massive force that controls how television shows and movies are made and how they are delivered to viewers.',\n",
       " 'Owning more content gives cable and telecom companies more leverage as customers demand smaller, hand-picked cable offerings or are cutting the cord altogether and watching online. \\n \\n ',\n",
       " 'AT&T; has already made moves to turn itself into a media powerhouse, buying satellite TV provider DIRECTV last year for $48.5 billion. \\n \\n ',\n",
       " 'While Bewkes, 64, was not open to a deal two years ago, the pace of consolidation in the media sector may urge him to reconsider, especially as two competitors, Viacom Inc (VIAB.O) and CBS Corp (CBS.N) have been exploring a potential merger at the request of controlling shareholder Sumner Redstone.',\n",
       " 'Talk of a deal comes as another potential bidder, Verizon Communications Inc (VZ.N), is busy with its purchase of internet company Yahoo Inc YHOO.O, which has been set back by news of a massive hacking breach into Yahoo customers’ email accounts. \\n \\n ',\n",
       " 'Any merger of that size in a sensitive market would get a close look from regulators, analysts said, but that would not necessarily derail a deal. \\n \\n ',\n",
       " '“Whoever the next president’s pick for the Federal Communications Commission is will have a significant say,” said Recon Analytics analyst Roger Entner.',\n",
       " 'Entner said Comcast’s purchase of NBCUniversal set a precedent and there is “a strong argument to say the FCC should approve” a deal between AT&T; and',\n",
       " 'THIS ARTICLE Share Tweet Post Email \\n \\n Senior executives at AT&T Inc. and Time Warner Inc. have met in recent weeks to discuss various business strategies including a possible merger, according to people familiar with the matter. \\n \\n ',\n",
       " 'Acquiring Time Warner would give AT&T, one of the biggest providers of pay-TV and of wireless and home internet service in the U.S., a collection of popular programming to offer to subscribers, from HBO to NBA basketball to the Cartoon Network.',\n",
       " 'AT&T CEO Randall Stephenson has been looking to add more content and original programming as part of his plan to transform the Dallas-based telecommunications company into a media and entertainment giant.',\n",
       " '“There’s a lot that’s attractive about Time Warner,” media industry veteran Peter Chernin, who runs an online video joint venture with AT&T, said in an interview Thursday on CNBC.',\n",
       " '“I think they’re both great companies.”',\n",
       " 'Time Warner Chief Executive Officer Jeff Bewkes is a willing seller if he gets an offer he thinks is fair, said one of the people.',\n",
       " 'For a Gadfly take on AT&T’s media ambitions, click here \\n \\n Time Warner rose 4.7 percent to $82.99, valuing the company at about $64.5 billion.',\n",
       " 'Telecom Powerhouse \\n \\n Time Warner shares had gained about 23 percent this year through Wednesday, boosted by sales gains at both its HBO premium channel and Turner cable-TV unit.',\n",
       " 'Its plan to focus on media and entertainment targets include companies worth $2 billion to $50 billion, people familiar with the plans said earlier this month.',\n",
       " 'Last year, AT&T paid $48.5 billion to acquire satellite-TV provider DirecTV, its biggest deal in at least 10 years, according to data compiled by Bloomberg.',\n",
       " '“With the pending launch of the DirecTV Now OTT app, it might make sense to move onto content ownership, but Time-Warner is an awfully big first step into the content world,” said John Butler, an analyst at Bloomberg Intelligence, in an e-mail. \\n \\n ',\n",
       " 'The results are mixed with blockbuster deals that bring outsiders into the media industry.',\n",
       " 'Comcast Corp. has had a largely successful run since acquiring control of NBCUniversal in 2009.']"
      ]
     },
     "execution_count": 95,
     "metadata": {},
     "output_type": "execute_result"
    }
   ],
   "source": [
    "# topic 2\n",
    "pegasus_result['document'][21][1]"
   ]
  },
  {
   "cell_type": "code",
   "execution_count": 92,
   "metadata": {},
   "outputs": [
    {
     "data": {
      "text/plain": [
       "['– Takeover talks between AT&T and Time Warner are heating up, reports Bloomberg, citing \"people familiar with the situation.\" Time Warner is currently valued at $65 billion, while AT&T is at $238 billion. The talks are said to be informal, and neither side has hired a financial adviser yet. Time Warner shares jumped 4.7% to $82.99 on news of the talks.',\n",
       " '– AT&T and Time Warner are in early talks about a possible merger that would create the biggest media company in America, reports Bloomberg, citing \"people familiar with the matter.\" A deal between the two companies—which include HBO, CNN, and the Warner Bros. studio—would be one of the biggest in recent years, notes Reuters, but it\\'s not clear whether a Donald Trump or Hillary Clinton administration would approve such a deal. The Los Angeles Times notes that AT&T has been working with an executive with \"considerable chops in Hollywood\" and that Time Warner has a \"rich library of characters,\" including DC Comics and Looney Tunes characters.']"
      ]
     },
     "execution_count": 92,
     "metadata": {},
     "output_type": "execute_result"
    }
   ],
   "source": [
    "pegasus_result['pred'][21]"
   ]
  },
  {
   "cell_type": "code",
   "execution_count": 93,
   "metadata": {},
   "outputs": [
    {
     "data": {
      "text/plain": [
       "'– A new communications behemoth may be emerging soon: Insiders tell Bloomberg that over the last few weeks, senior execs from AT&T and Time Warner have been discussing strategies including a possible merger. Reuters notes that telecom companies like AT&T have been making a \"land grab\" for media companies in recent years, and a merger would give AT&T assets including HBO, CNN, and Warner Bros. studios. The Los Angeles Times reports that Time Warner is valued at $65 billion and AT&T at $238 billion. A merger of the two would create an entity big enough to create major antitrust concerns, and it\\'s not clear whether a Clinton or Trump administration would allow the deal. Time Warner shares jumped 4.7% after merger rumors surfaced Thursday, while AT&T shares fell 1.8%. (Verizon\\'s deal to buy Yahoo has run into difficulties.)'"
      ]
     },
     "execution_count": 93,
     "metadata": {},
     "output_type": "execute_result"
    }
   ],
   "source": [
    "pegasus_result['summary'][21]"
   ]
  },
  {
   "cell_type": "code",
   "execution_count": 40,
   "metadata": {},
   "outputs": [],
   "source": [
    "batch = tokenizer(dataset[0]['document'], truncation=True, padding=\"longest\", return_tensors=\"pt\").to(device)\n",
    "translated = model.generate(**batch)\n",
    "tgt_text = tokenizer.batch_decode(translated, skip_special_tokens=True)"
   ]
  },
  {
   "cell_type": "code",
   "execution_count": 36,
   "metadata": {},
   "outputs": [
    {
     "data": {
      "text/plain": [
       "['– Two of the three suicide bombers who killed at least 44 people and wounded more than 300 in an attack Tuesday at Istanbul\\'s airport have been identified, according to Turkey\\'s state news agency. Vadim Osmanov and Rakim Bulgarov, both from Uzbekistan, have been identified as the attackers, Anadolu Agency said, without naming their nationalities. Vadim Osmanov was born in Kyrgyzstan, while Bulgarov is from Uzbekistan, CNN reports. They reportedly entered Turkey a month ago from Syria\\'s ISIS stronghold of Raqqa. On Thursday, US Rep. Michael McCaul identified the organizer of the attack as Akhmed Chatayev, a Chechen who is \"probably the No. 1 enemy in the Northern Caucasus region of Russia,\" he said. \"He\\'s traveled to Syria on many occasions and became one of the top lieutenants for the minister of war for ISIS operations.\" McCaul said Chatayev coordinated the attack with the three suicide bombers, who were armed with a bomb, a gun, and a bomb-making device. The chairman of the House Committee on Homeland Security said Chatayev is a \"battle-hardened\" Chechen terrorist who joined ISIS in recent years. \"Russian citizens—many of whom are Chechens or']"
      ]
     },
     "execution_count": 36,
     "metadata": {},
     "output_type": "execute_result"
    }
   ],
   "source": [
    "tgt_text"
   ]
  },
  {
   "cell_type": "code",
   "execution_count": 17,
   "metadata": {},
   "outputs": [
    {
     "data": {
      "text/plain": [
       "{'rouge1': Score(precision=0.475, recall=0.3140495867768595, fmeasure=0.3781094527363184),\n",
       " 'rouge2': Score(precision=0.17721518987341772, recall=0.11666666666666667, fmeasure=0.14070351758793972),\n",
       " 'rougeL': Score(precision=0.3375, recall=0.2231404958677686, fmeasure=0.26865671641791045)}"
      ]
     },
     "execution_count": 17,
     "metadata": {},
     "output_type": "execute_result"
    }
   ],
   "source": [
    "scorer.score(''.join(pegasus_result['pred'][0]),pegasus_result['summary'][0])"
   ]
  },
  {
   "cell_type": "code",
   "execution_count": 13,
   "metadata": {},
   "outputs": [],
   "source": [
    "def get_rouge(document):\n",
    "    pred = ''.join(document['pred'])\n",
    "    summary = document['summary']\n",
    "    score = scorer.score(pred,summary)\n",
    "    document['rouge1'] = score['rouge1'][2]\n",
    "    document['rouge2'] = score['rouge2'][2]\n",
    "    document['rougeL'] = score['rougeL'][2]\n",
    "    \n",
    "    return document\n",
    "    "
   ]
  },
  {
   "cell_type": "code",
   "execution_count": 14,
   "metadata": {},
   "outputs": [
    {
     "data": {
      "text/plain": [
       "0.28791773778920304"
      ]
     },
     "execution_count": 14,
     "metadata": {},
     "output_type": "execute_result"
    }
   ],
   "source": [
    "get_rouge(pegasus_result[0])['rouge1']"
   ]
  },
  {
   "cell_type": "code",
   "execution_count": 15,
   "metadata": {},
   "outputs": [
    {
     "data": {
      "application/vnd.jupyter.widget-view+json": {
       "model_id": "924d4fe63d6c4ce29bd6188d5f38ac73",
       "version_major": 2,
       "version_minor": 0
      },
      "text/plain": [
       "  0%|          | 0/1125 [00:00<?, ?ex/s]"
      ]
     },
     "metadata": {},
     "output_type": "display_data"
    }
   ],
   "source": [
    "pegasus_rouge = pegasus_result.map(get_rouge)"
   ]
  },
  {
   "cell_type": "code",
   "execution_count": 16,
   "metadata": {},
   "outputs": [
    {
     "name": "stdout",
     "output_type": "stream",
     "text": [
      "rouge1:  0.4599544262002416\n",
      "rouge2:  0.19828941876969666\n",
      "rougeL:  0.22964175255326796\n"
     ]
    }
   ],
   "source": [
    "import numpy as np\n",
    "print(\"rouge1: \", np.mean(pegasus_rouge['rouge1']))\n",
    "print(\"rouge2: \", np.mean(pegasus_rouge['rouge2']))\n",
    "print(\"rougeL: \", np.mean(pegasus_rouge['rougeL']))"
   ]
  },
  {
   "cell_type": "code",
   "execution_count": 2,
   "metadata": {},
   "outputs": [],
   "source": [
    "shard = load_from_disk(\"/scratch/kd1860/DSGA_1006_capstone/dataset/multi_news_test_clustered/shard_0\")"
   ]
  },
  {
   "cell_type": "code",
   "execution_count": 6,
   "metadata": {},
   "outputs": [
    {
     "data": {
      "text/plain": [
       "5"
      ]
     },
     "execution_count": 6,
     "metadata": {},
     "output_type": "execute_result"
    }
   ],
   "source": [
    "len(shard[0]['document'])"
   ]
  },
  {
   "cell_type": "code",
   "execution_count": 11,
   "metadata": {},
   "outputs": [
    {
     "data": {
      "text/plain": [
       "[0.029239766081871347,\n",
       " 0.03483709273182957,\n",
       " 0.04200779727095516,\n",
       " 0.02538011695906433,\n",
       " 0.033625730994152045]"
      ]
     },
     "execution_count": 11,
     "metadata": {},
     "output_type": "execute_result"
    }
   ],
   "source": [
    "import numpy as np\n",
    "[np.mean(i) for i in shard[0]['clustered_scores']]"
   ]
  },
  {
   "cell_type": "code",
   "execution_count": 13,
   "metadata": {},
   "outputs": [
    {
     "data": {
      "text/plain": [
       "[['Just look at what happened when the Obama administration in 2010 offered federal stimulus money to states to begin building a high-speed rail network.',\n",
       "  'Just look at what happened when the Obama administration in 2010 offered federal stimulus money to states to begin building a high-speed rail network.'],\n",
       " [\"Polls and race analysts suggest that only three of tonight's contests are considered competitive, all in states where incumbent Democratic governors aren't running again: Montana, New Hampshire and Washington.\",\n",
       "  'Three Republican governors, including Rick Scott of Florida and Scott Walker of Wisconsin, rejected a share of the money citing debt and deficit concerns.',\n",
       "  \"State-By-State View \\n \\n North Carolina: One-term incumbent Democratic Gov. Beverly Perdue, the first woman to hold the state's top office, announced in January that she would not seek re-election after polls showed her with high disapproval ratings and trailing Republican candidate Pat McCrory.\",\n",
       "  'McCrory lost a close race to Perdue in 2008, when then-presidential candidate Barack Obama became the first Democrat to win North Carolina in more than three decades.',\n",
       "  'New Hampshire: Former Democratic state Sen. Maggie Hassan has also promised a continuation of the policies of her predecessor, retiring Democratic Gov. John Lynch.',\n",
       "  'Her opponent is lawyer Ovide Lamontagne, a Tea Party conservative who ran unsuccessfully for governor in 1996 and for the U.S. Senate in 2010.',\n",
       "  \"Washington: The state's governorship has been in Democratic hands for 32 years, and former U.S. Rep. Jay Inslee is in a dead-heat battle to keep it that way.\",\n",
       "  \"Polls and race analysts suggest that only three of tonight's contests are considered competitive, all in states where incumbent Democratic governors aren't running again: Montana, New Hampshire and Washington.\",\n",
       "  'Three Republican governors, including Rick Scott of Florida and Scott Walker of Wisconsin, rejected a share of the money citing debt and deficit concerns.',\n",
       "  \"State-by-State View \\n \\n North Carolina: One-term incumbent Democratic Gov. Beverly Perdue, the first woman to hold the state's top office, announced in January she would not seek re-election after polls showed her with high disapproval ratings and trailing Republican candidate Pat McCrory.\",\n",
       "  'McCrory lost a close race to Perdue in 2008, when then-presidential candidate Barack Obama became the first Democrat to win North Carolina in more than three decades.',\n",
       "  'New Hampshire: Former Democratic state Sen. Maggie Hassan has also promised a continuation of the policies of her predecessor, retiring Democratic Gov. John Lynch.',\n",
       "  'Her opponent is lawyer Ovide Lamontagne, a Tea Party conservative who ran unsuccessfully for governor in 1996 and for the U.S. Senate in 2010.',\n",
       "  \"Washington: The state's governorship has been in Democratic hands for 32 years, and former Rep. Jay Inslee is in a dead-heat battle to keep it that way.\"],\n",
       " [\"GOP Eyes Gains As Voters In 11 States Pick Governors \\n \\n Enlarge this image toggle caption Jim Cole/AP Jim Cole/AP \\n \\n Voters in 11 states will pick their governors tonight, and Republicans appear on track to increase their numbers by at least one, with the potential to extend their hold to more than two-thirds of the nation's top state offices.\",\n",
       "  'Eight of the gubernatorial seats up for grabs are now held by Democrats; three are in Republican hands.',\n",
       "  'While those state races remain too close to call, Republicans are expected to wrest the North Carolina governorship from Democratic control, and to easily win GOP-held seats in Utah, North Dakota and Indiana.',\n",
       "  'Democrats are likely to hold on to their seats in West Virginia and Missouri, and are expected to notch safe wins in races for seats they hold in Vermont and Delaware.',\n",
       "  'Jack Dalrymple in North Dakota and Gary Herbert in Utah, and GOP Rep. Mike Pence in Indiana are expected to win.',\n",
       "  'Democrats are also hoping to hold on to the governorship in Missouri, where Jay Nixon is running for a second term against Republican Dave Spence; and in West Virginia, where Gov. Earl Ray Tomblin, former state senate president, is running for his first full term after winning a special election in 2011.',\n",
       "  \"||||| GOP Eyes Gains As Voters In 11 States Pick Governors \\n \\n Jim Cole / AP i Jim Cole / AP \\n \\n Voters in 11 states will pick their governors tonight, and Republicans appear on track to increase their numbers by at least one, and with the potential to extend their hold to more than two-thirds of the nation's top state offices.\",\n",
       "  'Eight of the gubernatorial seats up for grabs today are now held by Democrats; three are in Republican hands.',\n",
       "  'While those state races remain too close to call, Republicans are expected to wrest the North Carolina governorship from Democratic control, and to easily win GOP-held seats in Utah, North Dakota and Indiana.',\n",
       "  'Democrats are likely hold on to their seats in West Virginia and Missouri; and expected to notch safe wins in races for seats they hold in Vermont and Delaware.',\n",
       "  'Pretty Much Sure Things \\n \\n Republican governors Jack Dalrymple in North Dakota and Gary Herbert in Utah, and GOP Rep. Mike Pence in Indiana are expected to win.',\n",
       "  'Democrats are also hoping to hold on to the governorship in Missouri, where Jay Nixon is running for a second term against Republican Dave Spence; and in West Virginia, where Gov. Earl Ray Tomblin, former state senate president, is running for his first full term after willing a special election in 2011.'],\n",
       " [\"Republicans currently hold 29 governorships, Democrats have 20, and Rhode Island's Gov. Lincoln Chafee is an Independent.\",\n",
       "  'Montana: Popular Democratic Gov. Brian Schweitzer — he won his last election with 65 percent of the vote — has reached his two-term limit.',\n",
       "  \"McKenna has a proven ability to win statewide, but working in Inslee's favor are Obama's poll numbers.\",\n",
       "  'The Real Clear Politics average shows Obama with an average 13.6 percentage point lead over Romney; Inslee is leading McKenna by an average of 1 percentage point.',\n",
       "  'Tomblin is seen as likely to retain his seat, even in a state where Romney is leading Obama by double digits.',\n",
       "  \"Republicans currently hold 29 governorships, Democrats have 20; and Rhode Island's Gov. Lincoln Chafee is an Independent.\",\n",
       "  'Montana: Popular Democratic Gov. Brian Schweitzer — he won his last election with 65 percent of the vote — has reached his two-term limit.',\n",
       "  \"McKenna has a proven ability to win statewide, but working in Inslee's favor are Obama's poll numbers.\",\n",
       "  \"The Real Clear Politics average shows Obama with an average 13.6 point lead over Romney; Inslee's leading McKenna by an average of 1 percentage point.\",\n",
       "  'Tomblin is seen as likely to retain his seat, even in a state where Romney is leading Obama by double digits.'],\n",
       " [\"While the occupant of the governor's office is historically far less important than the party that controls the state legislature, top state officials in coming years are expected to wield significant influence in at least one major area.\",\n",
       "  \"And that's health care, says political scientist Thad Kousser, co-author of The Power of American Governors.\",\n",
       "  '\"No matter who wins the presidency, national politics is going to be stalemated on the Affordable Care Act,\" says Kousser, of the University of California, San Diego.',\n",
       "  'A recent U.S. Supreme Court decision giving states the ability to opt out of the law\\'s expansion of Medicaid, the federal insurance program for poor, disabled and elderly Americans, confers \"incredible power\" on the states and their governors, Kousser says.',\n",
       "  \"The seat is expected to be won by McCrory, a former Charlotte mayor, who is facing Perdue's lieutenant governor, Walter Dalton.\",\n",
       "  \"The state's Democratic Attorney General Steve Bullock is trying to keep the seat in his party's column by associating himself with Schweitzer's legacy.\",\n",
       "  \"The national parties have invested in the campaigns, which have focused on fiscal and women's health care issues.\",\n",
       "  \"While the occupant of the governor's office is historically far less important than the party that controls the state legislature, top state officials in coming years are expected to wield significant influence in at least one major area.\",\n",
       "  '\"No matter who wins the presidency, national politics is going to be stalemated on the Affordable Care Act,\" says Kousser, of the University of California-Berkeley.',\n",
       "  'A recent U.S. Supreme Court decision giving states the ability to opt out of the law\\'s expansion of Medicaid, the federal insurance program for poor, disabled and elderly Americans, confers \"incredible power\" on the states and their governors, Kousser says.',\n",
       "  \"The seat is expected to be won by McCrory, a former Charlotte mayor, who is facing Perdue's lieutenant governor, Walter Dalton.\",\n",
       "  \"The state's Democratic Attorney General Steve Bullock is trying to keep the seat in his party's column by associating himself with Schweitzer's legacy.\"]]"
      ]
     },
     "execution_count": 13,
     "metadata": {},
     "output_type": "execute_result"
    }
   ],
   "source": [
    "shard[0]['document']"
   ]
  },
  {
   "cell_type": "code",
   "execution_count": 14,
   "metadata": {},
   "outputs": [],
   "source": [
    "shard = load_from_disk(\"/scratch/kd1860/DSGA_1006_capstone/dataset/multi_news_test_clustered/shard_0\")"
   ]
  },
  {
   "cell_type": "code",
   "execution_count": 30,
   "metadata": {},
   "outputs": [],
   "source": [
    "test = shard[3]"
   ]
  },
  {
   "cell_type": "code",
   "execution_count": 31,
   "metadata": {},
   "outputs": [
    {
     "data": {
      "text/plain": [
       "[['The U.S. Census Bureau reported Wednesday that 16 million children living in America received food stamps in 2014, or about one out of every five kids.',\n",
       "  'Census said that number is up dramatically from 2007, before the Great Recession, when 9 million kids were receiving food stamps, or about one in eight.',\n",
       "  '“The rate of children living with married parents who receive food stamps has doubled since 2007,” Census said.',\n",
       "  'The findings are likely to bolster claims from some Republicans that the Obama administration seems to have a goal of putting more people under government aid programs.',\n",
       "  'While Democrats have tried to give President Barack Obama credit for a rebounding economy, they also note that millions of additional people are using food stamps, and that the program should not be cut yet.',\n",
       "  'The total number of people using food stamps has almost doubled since the start of the Great Recession, to nearly 48 million in 2013.',\n",
       "  'Republicans have tried since 2013 to cut food stamp spending, as part of their overall plan to slow spending and get control of the budget deficit.',\n",
       "  'In 2013, the House voted to cut $39 billion from food stamps over a decade, and almost a year ago, President Barack Obama signed a final deal that will cut just $8.7 billion from the program over ten years.',\n",
       "  'That cut was estimated to reduce food stamp benefits by about $90 per month for the hundreds of thousands of homes that use them.',\n",
       "  'The number of children in the United States relying on food stamps for a meal spiked to 16 million last year, according federal data, signaling a lopsided economic recovery in which lower income families are still lagging behind.',\n",
       "  'The roughly one in five children who received food stamps in 2014 surpassed pre-recession levels, when one in eight or 9 million children were on food stamps, according to the U.S. Census survey of American families released on Wednesday \\n \\n Republicans in Congress have sought to cut back on the Supplemental Nutritional Assistance Program or food stamp program as part of a larger plan to balance the budget.',\n",
       "  'The final farm bill signed into law trimmed $8.6 billion from the program, eliminating benefits for about 850,000 people, according to estimates by anti-hunger advocates.',\n",
       "  'Other findings of the survey show a rapidly changing America in which more children are being raised in single-parent homes and more young people are delaying marriage.',\n",
       "  'Of the 73.7 million children under 18 in the United States, 27 percent were living in single parent homes last year, tripling the 9 percent in 1960.',\n",
       "  'The number of marriages also dwindled last year with less than half of households in America made up of married couples, compared to three-quarters in 1940, the survey found.',\n",
       "  'The number of children receiving food stamps remains higher than it was before the start of the Great Recession in 2007, according to the U.S. Census Bureau’s annual Families and Living Arrangements table package released today.',\n",
       "  'The rate of children living with married parents who receive food stamps has doubled since 2007.',\n",
       "  'In 2014, an estimated 16 million children, or about one in five, received food stamp assistance compared with the roughly 9 million children, or one in eight, that received this form of assistance prior to the recession.',\n",
       "  'These statistics come from the 2014 Current Population Survey’s Annual Social and Economic Supplement, which has collected statistics on families and living arrangements for more than 60 years.'],\n",
       " ['The data comes from Census’ 2014 survey on families.',\n",
       "  '||||| WASHINGTON',\n",
       "  '(Reporting by Elvina Nawaguna; Editing by Sandra Maler) |||||']]"
      ]
     },
     "execution_count": 31,
     "metadata": {},
     "output_type": "execute_result"
    }
   ],
   "source": [
    "test['document']"
   ]
  },
  {
   "cell_type": "code",
   "execution_count": 32,
   "metadata": {},
   "outputs": [
    {
     "data": {
      "image/png": "[encoded data removed]",
      "text/plain": [
       "<Figure size 432x288 with 1 Axes>"
      ]
     },
     "metadata": {
      "needs_background": "light"
     },
     "output_type": "display_data"
    },
    {
     "data": {
      "image/png": "[encoded data removed]",
      "text/plain": [
       "<Figure size 432x288 with 1 Axes>"
      ]
     },
     "metadata": {
      "needs_background": "light"
     },
     "output_type": "display_data"
    }
   ],
   "source": [
    "import matplotlib.pyplot as plt\n",
    "for i in test['clustered_scores']:\n",
    "    plt.hist(i)\n",
    "    plt.show()"
   ]
  },
  {
   "cell_type": "code",
   "execution_count": null,
   "metadata": {},
   "outputs": [],
   "source": []
  },
  {
   "cell_type": "code",
   "execution_count": null,
   "metadata": {},
   "outputs": [],
   "source": []
  }
 ],
 "metadata": {
  "kernelspec": {
   "display_name": "my_env",
   "language": "python",
   "name": "my_env"
  },
  "language_info": {
   "codemirror_mode": {
    "name": "ipython",
    "version": 3
   },
   "file_extension": ".py",
   "mimetype": "text/x-python",
   "name": "python",
   "nbconvert_exporter": "python",
   "pygments_lexer": "ipython3",
   "version": "3.9.12"
  }
 },
 "nbformat": 4,
 "nbformat_minor": 4
}
