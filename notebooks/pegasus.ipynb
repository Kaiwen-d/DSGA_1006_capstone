{
 "cells": [
  {
   "cell_type": "code",
   "execution_count": 1,
   "metadata": {},
   "outputs": [],
   "source": [
    "from transformers import PegasusForConditionalGeneration, PegasusTokenizer\n",
    "from datasets import load_from_disk\n",
    "import torch\n"
   ]
  },
  {
   "cell_type": "code",
   "execution_count": 27,
   "metadata": {},
   "outputs": [
    {
     "name": "stderr",
     "output_type": "stream",
     "text": [
      "WARNING:datasets.builder:Found cached dataset multi_news (/home/kd1860/.cache/huggingface/datasets/multi_news/default/1.0.0/2f1f69a2bedc8ad1c5d8ae5148e4755ee7095f465c1c01ae8f85454342065a72)\n"
     ]
    }
   ],
   "source": [
    "from datasets import load_dataset\n",
    "dataset = load_dataset('multi_news', split='train').shard(num_shards=40, index=0)"
   ]
  },
  {
   "cell_type": "code",
   "execution_count": 2,
   "metadata": {},
   "outputs": [],
   "source": [
    "shard0 = load_from_disk(\"/scratch/kd1860/DSGA_1006_capstone/dataset/multi_news_test_pegasus/shard_0\")\n",
    "shard1 = load_from_disk(\"/scratch/kd1860/DSGA_1006_capstone/dataset/multi_news_test_pegasus/shard_1\")\n",
    "shard2 = load_from_disk(\"/scratch/kd1860/DSGA_1006_capstone/dataset/multi_news_test_pegasus/shard_2\")\n",
    "shard3 = load_from_disk(\"/scratch/kd1860/DSGA_1006_capstone/dataset/multi_news_test_pegasus/shard_3\")\n",
    "shard4 = load_from_disk(\"/scratch/kd1860/DSGA_1006_capstone/dataset/multi_news_test_pegasus/shard_4\")"
   ]
  },
  {
   "cell_type": "code",
   "execution_count": null,
   "metadata": {},
   "outputs": [],
   "source": []
  },
  {
   "cell_type": "code",
   "execution_count": 14,
   "metadata": {},
   "outputs": [],
   "source": [
    "model_name = \"google/pegasus-multi_news\"\n",
    "device = \"cuda\" if torch.cuda.is_available() else \"cpu\"\n",
    "tokenizer = PegasusTokenizer.from_pretrained(model_name)\n",
    "model = PegasusForConditionalGeneration.from_pretrained(model_name).to(device)"
   ]
  },
  {
   "cell_type": "code",
   "execution_count": 15,
   "metadata": {},
   "outputs": [],
   "source": [
    "def generate_summary(document):\n",
    "    result = []\n",
    "    for text in document['document']:\n",
    "        batch = tokenizer(''.join(text), truncation=True, padding=\"longest\", return_tensors=\"pt\").to(device)\n",
    "        translated = model.generate(**batch)\n",
    "        result.extend(tokenizer.batch_decode(translated, skip_special_tokens=True))\n",
    "    document['pred'] = result\n",
    "    return document"
   ]
  },
  {
   "cell_type": "code",
   "execution_count": 16,
   "metadata": {},
   "outputs": [
    {
     "data": {
      "application/vnd.jupyter.widget-view+json": {
       "model_id": "9f420416a4c0439e936450c9ac2909ac",
       "version_major": 2,
       "version_minor": 0
      },
      "text/plain": [
       "  0%|          | 0/3 [00:00<?, ?ex/s]"
      ]
     },
     "metadata": {},
     "output_type": "display_data"
    },
    {
     "name": "stderr",
     "output_type": "stream",
     "text": [
      "/ext3/miniconda3/lib/python3.9/site-packages/transformers/generation_utils.py:1359: UserWarning: Neither `max_length` nor `max_new_tokens` has been set, `max_length` will default to 256 (`self.config.max_length`). Controlling `max_length` via the config is deprecated and `max_length` will be removed from the config in v5 of Transformers -- we recommend using `max_new_tokens` to control the maximum length of the generation.\n",
      "  warnings.warn(\n"
     ]
    }
   ],
   "source": [
    "result = shard.select(range(3)).map(generate_summary)"
   ]
  },
  {
   "cell_type": "code",
   "execution_count": 22,
   "metadata": {},
   "outputs": [
    {
     "data": {
      "text/plain": [
       "[\"Polls and race analysts suggest that only three of tonight's contests are considered competitive, all in states where incumbent Democratic governors aren't running again: Montana, New Hampshire and Washington.\",\n",
       " 'Three Republican governors, including Rick Scott of Florida and Scott Walker of Wisconsin, rejected a share of the money citing debt and deficit concerns.',\n",
       " \"State-By-State View \\n \\n North Carolina: One-term incumbent Democratic Gov. Beverly Perdue, the first woman to hold the state's top office, announced in January that she would not seek re-election after polls showed her with high disapproval ratings and trailing Republican candidate Pat McCrory.\",\n",
       " 'McCrory lost a close race to Perdue in 2008, when then-presidential candidate Barack Obama became the first Democrat to win North Carolina in more than three decades.',\n",
       " 'New Hampshire: Former Democratic state Sen. Maggie Hassan has also promised a continuation of the policies of her predecessor, retiring Democratic Gov. John Lynch.',\n",
       " 'Her opponent is lawyer Ovide Lamontagne, a Tea Party conservative who ran unsuccessfully for governor in 1996 and for the U.S. Senate in 2010.',\n",
       " \"Washington: The state's governorship has been in Democratic hands for 32 years, and former U.S. Rep. Jay Inslee is in a dead-heat battle to keep it that way.\",\n",
       " \"Polls and race analysts suggest that only three of tonight's contests are considered competitive, all in states where incumbent Democratic governors aren't running again: Montana, New Hampshire and Washington.\",\n",
       " 'Three Republican governors, including Rick Scott of Florida and Scott Walker of Wisconsin, rejected a share of the money citing debt and deficit concerns.',\n",
       " \"State-by-State View \\n \\n North Carolina: One-term incumbent Democratic Gov. Beverly Perdue, the first woman to hold the state's top office, announced in January she would not seek re-election after polls showed her with high disapproval ratings and trailing Republican candidate Pat McCrory.\",\n",
       " 'McCrory lost a close race to Perdue in 2008, when then-presidential candidate Barack Obama became the first Democrat to win North Carolina in more than three decades.',\n",
       " 'New Hampshire: Former Democratic state Sen. Maggie Hassan has also promised a continuation of the policies of her predecessor, retiring Democratic Gov. John Lynch.',\n",
       " 'Her opponent is lawyer Ovide Lamontagne, a Tea Party conservative who ran unsuccessfully for governor in 1996 and for the U.S. Senate in 2010.',\n",
       " \"Washington: The state's governorship has been in Democratic hands for 32 years, and former Rep. Jay Inslee is in a dead-heat battle to keep it that way.\"]"
      ]
     },
     "execution_count": 22,
     "metadata": {},
     "output_type": "execute_result"
    }
   ],
   "source": [
    "result['document'][0][1]"
   ]
  },
  {
   "cell_type": "code",
   "execution_count": 23,
   "metadata": {},
   "outputs": [
    {
     "data": {
      "text/plain": [
       "\"– It's Election Day, which means it's time for you to chime in with your thoughts on who's going to be the next governor of Montana, New Hampshire, or Washington. Here's what you need to know: It's a dead heat: Democrat Jay Inslee and Tea Party favorite Ovide Lamontagne are in a dead heat in the race for governor of Washington, the state has been in Democratic hands for 32 years. It's a close race: Former Democratic state Sen. Maggie Hassan has promised a continuation of the policies of her predecessor, retiring Democratic Gov. John Lynch. Her opponent is lawyer Ovide Lamontagne, a Tea Party conservative who ran unsuccessfully for governor in 1996 and for the US Senate in 2010. Polls and race analysts suggest that only three of tonight's contests are considered competitive, all in states where incumbent Democratic governors aren't running again: Montana, New Hampshire, and Washington. Three Republican governors, including Rick Scott of Florida and Scott Walker of Wisconsin, rejected a share of the money citing debt and deficit concerns. North Carolina: One-term incumbent Democratic Gov. Beverly Perdue, the first woman to hold the state's top office, announced in January that she would not seek re-election after polls\""
      ]
     },
     "execution_count": 23,
     "metadata": {},
     "output_type": "execute_result"
    }
   ],
   "source": [
    "result[0]['pred'][1]"
   ]
  },
  {
   "cell_type": "code",
   "execution_count": 19,
   "metadata": {},
   "outputs": [
    {
     "data": {
      "text/plain": [
       "'– It\\'s a race for the governor\\'s mansion in 11 states today, and the GOP could end the night at the helm of more than two-thirds of the 50 states. The GOP currently controls 29 of the country\\'s top state offices; it\\'s expected to keep the three Republican ones that are up for grabs (Utah, North Dakota, and Indiana), and wrest North Carolina from the Dems. That brings its toll to 30, with the potential to take three more, reports NPR. Races in Montana, New Hampshire, and Washington are still too close to call, and in all three, Democrat incumbents aren\\'t seeking reelection. The results could have a big impact on health care, since a Supreme Court ruling grants states the ability to opt out of ObamaCare\\'s Medicaid expansion. \"A Romney victory would dramatically empower Republican governors,\" said one analyst. Click for NPR\\'s state-by-state breakdown of what could happen.'"
      ]
     },
     "execution_count": 19,
     "metadata": {},
     "output_type": "execute_result"
    }
   ],
   "source": [
    "result[0]['summary']"
   ]
  },
  {
   "cell_type": "code",
   "execution_count": 11,
   "metadata": {},
   "outputs": [],
   "source": [
    "from rouge_score import rouge_scorer\n",
    "scorer = rouge_scorer.RougeScorer(['rouge1','rouge2', 'rougeL'], use_stemmer=True)"
   ]
  },
  {
   "cell_type": "code",
   "execution_count": 3,
   "metadata": {},
   "outputs": [],
   "source": [
    "from datasets import load_from_disk\n",
    "pegasus_result= load_from_disk(\"/scratch/kd1860/DSGA_1006_capstone/dataset/pegasus_multi_news/shard_0\")"
   ]
  },
  {
   "cell_type": "code",
   "execution_count": 43,
   "metadata": {},
   "outputs": [
    {
     "data": {
      "text/plain": [
       "['Just look at what happened when the Obama administration in 2010 offered federal stimulus money to states to begin building a high-speed rail network.',\n",
       " 'Just look at what happened when the Obama administration in 2010 offered federal stimulus money to states to begin building a high-speed rail network.']"
      ]
     },
     "execution_count": 43,
     "metadata": {},
     "output_type": "execute_result"
    }
   ],
   "source": [
    "# topic 1\n",
    "pegasus_result['document'][0][0]"
   ]
  },
  {
   "cell_type": "code",
   "execution_count": 49,
   "metadata": {},
   "outputs": [
    {
     "data": {
      "text/plain": [
       "[\"GOP Eyes Gains As Voters In 11 States Pick Governors \\n \\n Enlarge this image toggle caption Jim Cole/AP Jim Cole/AP \\n \\n Voters in 11 states will pick their governors tonight, and Republicans appear on track to increase their numbers by at least one, with the potential to extend their hold to more than two-thirds of the nation's top state offices.\",\n",
       " 'Eight of the gubernatorial seats up for grabs are now held by Democrats; three are in Republican hands.',\n",
       " 'While those state races remain too close to call, Republicans are expected to wrest the North Carolina governorship from Democratic control, and to easily win GOP-held seats in Utah, North Dakota and Indiana.',\n",
       " 'Democrats are likely to hold on to their seats in West Virginia and Missouri, and are expected to notch safe wins in races for seats they hold in Vermont and Delaware.',\n",
       " 'Jack Dalrymple in North Dakota and Gary Herbert in Utah, and GOP Rep. Mike Pence in Indiana are expected to win.',\n",
       " 'Democrats are also hoping to hold on to the governorship in Missouri, where Jay Nixon is running for a second term against Republican Dave Spence; and in West Virginia, where Gov. Earl Ray Tomblin, former state senate president, is running for his first full term after winning a special election in 2011.',\n",
       " \"||||| GOP Eyes Gains As Voters In 11 States Pick Governors \\n \\n Jim Cole / AP i Jim Cole / AP \\n \\n Voters in 11 states will pick their governors tonight, and Republicans appear on track to increase their numbers by at least one, and with the potential to extend their hold to more than two-thirds of the nation's top state offices.\",\n",
       " 'Eight of the gubernatorial seats up for grabs today are now held by Democrats; three are in Republican hands.',\n",
       " 'While those state races remain too close to call, Republicans are expected to wrest the North Carolina governorship from Democratic control, and to easily win GOP-held seats in Utah, North Dakota and Indiana.',\n",
       " 'Democrats are likely hold on to their seats in West Virginia and Missouri; and expected to notch safe wins in races for seats they hold in Vermont and Delaware.',\n",
       " 'Pretty Much Sure Things \\n \\n Republican governors Jack Dalrymple in North Dakota and Gary Herbert in Utah, and GOP Rep. Mike Pence in Indiana are expected to win.',\n",
       " 'Democrats are also hoping to hold on to the governorship in Missouri, where Jay Nixon is running for a second term against Republican Dave Spence; and in West Virginia, where Gov. Earl Ray Tomblin, former state senate president, is running for his first full term after willing a special election in 2011.']"
      ]
     },
     "execution_count": 49,
     "metadata": {},
     "output_type": "execute_result"
    }
   ],
   "source": [
    "# topic 2\n",
    "pegasus_result['document'][0][2]"
   ]
  },
  {
   "cell_type": "code",
   "execution_count": 46,
   "metadata": {},
   "outputs": [
    {
     "data": {
      "text/plain": [
       "[\"– It's not the kind of headline you'd expect to read from the Wall Street Journal, but that's exactly what's happened in the case of the San Francisco 49ers. The team's starting quarterback, 49ers tight end Vernon Davis, is out with a season-ending knee injury suffered in a game against the Golden State Warriors on Sunday. Davis, who was injured in the first half of the game, is expected to miss the rest of the season. The team says in a statement that the injury is not life-threatening. Davis was carted off the field on a stretcher and taken to a local hospital. He's expected to be in the hospital for at least a week.\",\n",
       " \"– It's Election Day, which means it's time for you to chime in with your thoughts on who's going to be the next governor of Montana, New Hampshire, or Washington. Here's what you need to know: It's a dead heat: Democrat Jay Inslee and Tea Party favorite Ovide Lamontagne are in a dead heat in the race for governor of Washington, the state has been in Democratic hands for 32 years. It's a close race: Former Democratic state Sen. Maggie Hassan has promised a continuation of the policies of her predecessor, retiring Democratic Gov. John Lynch. Her opponent is lawyer Ovide Lamontagne, a Tea Party conservative who ran unsuccessfully for governor in 1996 and for the US Senate in 2010. Polls and race analysts suggest that only three of tonight's contests are considered competitive, all in states where incumbent Democratic governors aren't running again: Montana, New Hampshire, and Washington. Three Republican governors, including Rick Scott of Florida and Scott Walker of Wisconsin, rejected a share of the money citing debt and deficit concerns. North Carolina: One-term incumbent Democratic Gov. Beverly Perdue, the first woman to hold the state's top office, announced in January that she would not seek re-election after polls\",\n",
       " \"– Republicans are on track to keep control of more than two-thirds of the nation's state offices tonight, NPR reports. Republicans are expected to easily win the North Carolina governorship, the Utah governorship, and the Indiana governorship, while Democrats are expected to hold on to their seats in West Virginia, Missouri, and Delaware. Eight of the 11 governors up for grabs are now held by Democrats, but Republicans are expected to easily win in North Dakota and Gary Herbert in Utah. Democrats are likely to hold on to their seats in West Virginia and Missouri, and are expected to notch safe wins in races for seats they hold in Vermont and Delaware. Jack Dalrymple in North Dakota and Gary Herbert in Utah, and GOP Rep. Mike Pence in Indiana are expected to win.\",\n",
       " \"– President Obama and Mitt Romney are locked in a tight race for the White House, according to the latest Public Policy Polling survey. The survey, conducted by the New York Times and the Wall Street Journal, has Obama and Romney in a dead heat in 11 battleground states, with the president leading by an average of 13.6 percentage points. Public Policy Polling says Obama's lead is the biggest it has been in the survey's 39-year history. In other election news: Washington Gov. Jay Inslee, a Democrat, is leading Republican state Attorney General Rob McKenna by an average of 1 percentage point, according to Real Clear Politics. Montana Gov. Brian Schweitzer, a popular Democrat, has reached his two-term limit. Republicans currently hold 29 governorships, Democrats have 20, and Rhode Island's Gov. Lincoln Chafee is an Independent.\",\n",
       " '– It\\'s a safe bet that North Carolina Gov. Pat McCrory will be the next Republican governor of the United States. He\\'s currently leading his Democratic opponent, Steve Bullock, by 5 points, according to the latest poll by the University of North Carolina at Chapel Hill and the News & Observer of Raleigh. McCrory, a former mayor of Charlotte, has been attacking Bullock for his support of the state\\'s \"bathroom law,\" which requires transgender residents to use the public bathroom of their choice. \"Steve Bullock wants to ban transgender people from using public bathrooms that meet their gender identity,\" McCrory said in a recent interview. \"I don\\'t think it\\'s a good idea. I don\\'t think it\\'s the right thing to do. I don\\'t think it\\'s the right thing to do for the citizens of North Carolina.\" (Click to read about how the next president of the United States will be a Republican.)']"
      ]
     },
     "execution_count": 46,
     "metadata": {},
     "output_type": "execute_result"
    }
   ],
   "source": [
    "pegasus_result['pred'][0]"
   ]
  },
  {
   "cell_type": "code",
   "execution_count": 174,
   "metadata": {},
   "outputs": [
    {
     "data": {
      "text/plain": [
       "\"– Apparently there are places even South Park fears to tread. After getting a death threat from the jihadist website RevolutionMuslim.com, the show pulled the prophet Mohammed out of this week's episode, bleeping out all mention of his name, putting “censored” banners over parts of the episode and, where necessary, replacing him with Santa Claus in a bear suit, the Huffington Post reports. Here's the deal: last week's episode (which you can see a clip of here) mocked the taboo against showing the prophet Mohammed, having him show up first hidden inside a U-Haul, and then inside a bear costume. This week's episode was to continue that story. It's unclear whether the extra censorship is intended to appease the irony-challenged folks at RevolutionMuslim or mock them. South Park, incidentally, has tackled the issue before, and even depicted Mohammed on screen once with impunity.\""
      ]
     },
     "execution_count": 174,
     "metadata": {},
     "output_type": "execute_result"
    }
   ],
   "source": [
    "pegasus_result['summary'][7]"
   ]
  },
  {
   "cell_type": "code",
   "execution_count": 40,
   "metadata": {},
   "outputs": [],
   "source": [
    "batch = tokenizer(dataset[0]['document'], truncation=True, padding=\"longest\", return_tensors=\"pt\").to(device)\n",
    "translated = model.generate(**batch)\n",
    "tgt_text = tokenizer.batch_decode(translated, skip_special_tokens=True)"
   ]
  },
  {
   "cell_type": "code",
   "execution_count": 36,
   "metadata": {},
   "outputs": [
    {
     "data": {
      "text/plain": [
       "['– Two of the three suicide bombers who killed at least 44 people and wounded more than 300 in an attack Tuesday at Istanbul\\'s airport have been identified, according to Turkey\\'s state news agency. Vadim Osmanov and Rakim Bulgarov, both from Uzbekistan, have been identified as the attackers, Anadolu Agency said, without naming their nationalities. Vadim Osmanov was born in Kyrgyzstan, while Bulgarov is from Uzbekistan, CNN reports. They reportedly entered Turkey a month ago from Syria\\'s ISIS stronghold of Raqqa. On Thursday, US Rep. Michael McCaul identified the organizer of the attack as Akhmed Chatayev, a Chechen who is \"probably the No. 1 enemy in the Northern Caucasus region of Russia,\" he said. \"He\\'s traveled to Syria on many occasions and became one of the top lieutenants for the minister of war for ISIS operations.\" McCaul said Chatayev coordinated the attack with the three suicide bombers, who were armed with a bomb, a gun, and a bomb-making device. The chairman of the House Committee on Homeland Security said Chatayev is a \"battle-hardened\" Chechen terrorist who joined ISIS in recent years. \"Russian citizens—many of whom are Chechens or']"
      ]
     },
     "execution_count": 36,
     "metadata": {},
     "output_type": "execute_result"
    }
   ],
   "source": [
    "tgt_text"
   ]
  },
  {
   "cell_type": "code",
   "execution_count": 17,
   "metadata": {},
   "outputs": [
    {
     "data": {
      "text/plain": [
       "{'rouge1': Score(precision=0.475, recall=0.3140495867768595, fmeasure=0.3781094527363184),\n",
       " 'rouge2': Score(precision=0.17721518987341772, recall=0.11666666666666667, fmeasure=0.14070351758793972),\n",
       " 'rougeL': Score(precision=0.3375, recall=0.2231404958677686, fmeasure=0.26865671641791045)}"
      ]
     },
     "execution_count": 17,
     "metadata": {},
     "output_type": "execute_result"
    }
   ],
   "source": [
    "scorer.score(''.join(pegasus_result['pred'][0]),pegasus_result['summary'][0])"
   ]
  },
  {
   "cell_type": "code",
   "execution_count": 6,
   "metadata": {},
   "outputs": [],
   "source": [
    "from datasets import concatenate_datasets, load_dataset\n",
    "shard_0 = load_from_disk(\"/scratch/kd1860/DSGA_1006_capstone/dataset/multi_news_test_pegasus/shard_0\")\n",
    "shard_1 = load_from_disk(\"/scratch/kd1860/DSGA_1006_capstone/dataset/multi_news_test_pegasus/shard_1\")\n",
    "shard_2 = load_from_disk(\"/scratch/kd1860/DSGA_1006_capstone/dataset/multi_news_test_pegasus/shard_2\")\n",
    "shard_3 = load_from_disk(\"/scratch/kd1860/DSGA_1006_capstone/dataset/multi_news_test_pegasus/shard_3\")\n",
    "shard_4 = load_from_disk(\"/scratch/kd1860/DSGA_1006_capstone/dataset/multi_news_test_pegasus/shard_4\")"
   ]
  },
  {
   "cell_type": "code",
   "execution_count": 8,
   "metadata": {},
   "outputs": [],
   "source": [
    "pegasus_result = concatenate_datasets([shard_0,shard_1,shard_2,shard_3,shard_4])"
   ]
  },
  {
   "cell_type": "code",
   "execution_count": 163,
   "metadata": {},
   "outputs": [],
   "source": [
    "def get_rouge(document):\n",
    "    len_cutoff = 3\n",
    "    score_cutoff = 0.01\n",
    "    pred = []\n",
    "    for i in range(len(document['pred'])):\n",
    "        if len(document['clustered_scores'][i]) > len_cutoff:\n",
    "            if np.quantile(document['clustered_scores'][i], 0.75) > score_cutoff:\n",
    "                pred.append(document['pred'][i])\n",
    "    pred = ''.join(pred)\n",
    "    summary = document['summary']\n",
    "    score = scorer.score(pred,summary)\n",
    "    document['rouge1'] = score['rouge1'][2]\n",
    "    document['rouge2'] = score['rouge2'][2]\n",
    "    document['rougeL'] = score['rougeL'][2]\n",
    "    document['output'] = pred\n",
    "    \n",
    "    return document\n",
    "    "
   ]
  },
  {
   "cell_type": "code",
   "execution_count": 188,
   "metadata": {},
   "outputs": [
    {
     "data": {
      "text/plain": [
       "'– The \"nightmare nanny\" who won\\'t leave a California family\\'s home has agreed to move out by July 4, the Bracamontes tell People. \"She wrote a [email] stating what she wants to do,\" says Marcella Bracamonte. \"She would like to move out but because of the hot weather that\\'s going to happen soon.\" The only hitch: The Bracamontes were scheduled to go out of town for a family wedding on July 2. \"I feel like it\\'s a trap,\" says Bracamonte. \"I feel like she knows that I\\'m going to be gone and that she wants to lock me out of my home.\" The Bracamontes hired 64-year-old Diane Stretton via Craigslist, offering her room and board for taking care of their three children, ages 11, 4, and 16 months. After the first few months, Stretton stopped working and refused to leave her room. The Bracamontes fired her on June 6, and asked Stretton to sign a letter giving her 30 days to leave, but Stretton threatened to sue the family for elder abuse and improper firing, CBS Los Angeles reports. The Bracamontes say Stretton only came out of her room to– The Bracamontes were happy to rent a room to a woman who wanted to be a nanny for their two children, they just didn\\'t think she was going to be able to live there full-time. That\\'s when they let her go, they tell People. \"I didn\\'t do a credit check, because I wasn\\'t accepting money from her,\" says Ralph Bracamonte. \"She didn\\'t want to pick up anything anymore.\" The New York Daily News reports the Bracamontes, who live in a $750,000 home near Long Island\\'s LaGuardia Airport, hired a maid to take care of the children, ages 3 and 5, until they could find someone to take care of them full-time. When that didn\\'t work out, Ralph Bracamonte says, he and his wife \"let her go.\" Now the Bracamontes are being sued by the maid\\'s employer, who says the Bracamontes violated the maid\\'s rights by not allowing her to live in the room full-time and not paying her rent. The maid says the Bracamontes also didn\\'t allow her to feed the children or use the bathroom. The maid\\'s lawyer says the Bracamontes also didn\\'t allow'"
      ]
     },
     "execution_count": 188,
     "metadata": {},
     "output_type": "execute_result"
    }
   ],
   "source": [
    "get_rouge(pegasus_result[57])['output']"
   ]
  },
  {
   "cell_type": "code",
   "execution_count": 187,
   "metadata": {},
   "outputs": [
    {
     "data": {
      "text/plain": [
       "\"– Apparently there are places even South Park fears to tread. After getting a death threat from the jihadist website RevolutionMuslim.com, the show pulled the prophet Mohammed out of this week's episode, bleeping out all mention of his name, putting “censored” banners over parts of the episode and, where necessary, replacing him with Santa Claus in a bear suit, the Huffington Post reports. Here's the deal: last week's episode (which you can see a clip of here) mocked the taboo against showing the prophet Mohammed, having him show up first hidden inside a U-Haul, and then inside a bear costume. This week's episode was to continue that story. It's unclear whether the extra censorship is intended to appease the irony-challenged folks at RevolutionMuslim or mock them. South Park, incidentally, has tackled the issue before, and even depicted Mohammed on screen once with impunity.\""
      ]
     },
     "execution_count": 187,
     "metadata": {},
     "output_type": "execute_result"
    }
   ],
   "source": [
    "pegasus_result[7]['summary']"
   ]
  },
  {
   "cell_type": "code",
   "execution_count": 165,
   "metadata": {},
   "outputs": [
    {
     "name": "stdout",
     "output_type": "stream",
     "text": [
      "            "
     ]
    },
    {
     "data": {
      "application/vnd.jupyter.widget-view+json": {
       "model_id": "5272c5d22fba45c9a17f944ad96e45f0",
       "version_major": 2,
       "version_minor": 0
      },
      "text/plain": [
       "#2:   0%|          | 0/703 [00:00<?, ?ex/s]"
      ]
     },
     "metadata": {},
     "output_type": "display_data"
    },
    {
     "name": "stdout",
     "output_type": "stream",
     "text": [
      "    "
     ]
    },
    {
     "data": {
      "application/vnd.jupyter.widget-view+json": {
       "model_id": "4c4cf9febd3041679506545f397a33a0",
       "version_major": 2,
       "version_minor": 0
      },
      "text/plain": [
       "#1:   0%|          | 0/703 [00:00<?, ?ex/s]"
      ]
     },
     "metadata": {},
     "output_type": "display_data"
    },
    {
     "data": {
      "application/vnd.jupyter.widget-view+json": {
       "model_id": "d9721831913248408aff2ed52813dafe",
       "version_major": 2,
       "version_minor": 0
      },
      "text/plain": [
       "#0:   0%|          | 0/703 [00:00<?, ?ex/s]"
      ]
     },
     "metadata": {},
     "output_type": "display_data"
    },
    {
     "data": {
      "application/vnd.jupyter.widget-view+json": {
       "model_id": "6fd0be2a939f41a4a1042cd3400236be",
       "version_major": 2,
       "version_minor": 0
      },
      "text/plain": [
       "#5:   0%|          | 0/703 [00:00<?, ?ex/s]"
      ]
     },
     "metadata": {},
     "output_type": "display_data"
    },
    {
     "data": {
      "application/vnd.jupyter.widget-view+json": {
       "model_id": "1be0c99352764465bd7c93ba0c1c142e",
       "version_major": 2,
       "version_minor": 0
      },
      "text/plain": [
       "#4:   0%|          | 0/703 [00:00<?, ?ex/s]"
      ]
     },
     "metadata": {},
     "output_type": "display_data"
    },
    {
     "data": {
      "application/vnd.jupyter.widget-view+json": {
       "model_id": "50441d53dfb142fa930ddbd8d3a41357",
       "version_major": 2,
       "version_minor": 0
      },
      "text/plain": [
       "#3:   0%|          | 0/703 [00:00<?, ?ex/s]"
      ]
     },
     "metadata": {},
     "output_type": "display_data"
    },
    {
     "data": {
      "application/vnd.jupyter.widget-view+json": {
       "model_id": "96afda22cf1442e892c21d5e2cc240a1",
       "version_major": 2,
       "version_minor": 0
      },
      "text/plain": [
       "#7:   0%|          | 0/702 [00:00<?, ?ex/s]"
      ]
     },
     "metadata": {},
     "output_type": "display_data"
    },
    {
     "data": {
      "application/vnd.jupyter.widget-view+json": {
       "model_id": "b73b9808b47846cc9a88544f41f79e27",
       "version_major": 2,
       "version_minor": 0
      },
      "text/plain": [
       "#6:   0%|          | 0/702 [00:00<?, ?ex/s]"
      ]
     },
     "metadata": {},
     "output_type": "display_data"
    }
   ],
   "source": [
    "pegasus_rouge = pegasus_result.map(get_rouge,num_proc = 8)"
   ]
  },
  {
   "cell_type": "code",
   "execution_count": 166,
   "metadata": {},
   "outputs": [
    {
     "name": "stdout",
     "output_type": "stream",
     "text": [
      "rouge1:  0.42190564320207663\n",
      "rouge2:  0.16324158862041507\n",
      "rougeL:  0.19833580975640575\n"
     ]
    }
   ],
   "source": [
    "import numpy as np\n",
    "print(\"rouge1: \", np.mean(pegasus_rouge['rouge1']))\n",
    "print(\"rouge2: \", np.mean(pegasus_rouge['rouge2']))\n",
    "print(\"rougeL: \", np.mean(pegasus_rouge['rougeL']))"
   ]
  },
  {
   "cell_type": "code",
   "execution_count": 167,
   "metadata": {},
   "outputs": [],
   "source": [
    "import matplotlib.pyplot as plt\n",
    "def cluster_mean_score(document):\n",
    "    l = []\n",
    "    for c in document['clustered_scores']:\n",
    "        l.append(np.mean(c))\n",
    "    document['cluster_rouge'] = l\n",
    "    \n",
    "    return document"
   ]
  },
  {
   "cell_type": "code",
   "execution_count": 168,
   "metadata": {},
   "outputs": [
    {
     "name": "stdout",
     "output_type": "stream",
     "text": [
      "          "
     ]
    },
    {
     "name": "stderr",
     "output_type": "stream",
     "text": [
      "WARNING:datasets.arrow_dataset:Loading cached processed dataset at /scratch/kd1860/DSGA_1006_capstone/dataset/multi_news_test_pegasus/shard_1/cache-164343e7f80d34b8.arrow\n",
      "WARNING:datasets.arrow_dataset:Loading cached processed dataset at /scratch/kd1860/DSGA_1006_capstone/dataset/multi_news_test_pegasus/shard_0/cache-cca0a69fd9f7e7c2.arrow\n"
     ]
    },
    {
     "name": "stdout",
     "output_type": "stream",
     "text": [
      "  "
     ]
    },
    {
     "name": "stderr",
     "output_type": "stream",
     "text": [
      "WARNING:datasets.arrow_dataset:Loading cached processed dataset at /scratch/kd1860/DSGA_1006_capstone/dataset/multi_news_test_pegasus/shard_0/cache-4f4fdb72347fadf3.arrow\n",
      "WARNING:datasets.arrow_dataset:Loading cached processed dataset at /scratch/kd1860/DSGA_1006_capstone/dataset/multi_news_test_pegasus/shard_1/cache-b1ef8d15fbc451f0.arrow\n"
     ]
    },
    {
     "name": "stdout",
     "output_type": "stream",
     "text": [
      " "
     ]
    },
    {
     "name": "stderr",
     "output_type": "stream",
     "text": [
      "WARNING:datasets.arrow_dataset:Loading cached processed dataset at /scratch/kd1860/DSGA_1006_capstone/dataset/multi_news_test_pegasus/shard_2/cache-f3975324ec495f24.arrow\n"
     ]
    },
    {
     "name": "stdout",
     "output_type": "stream",
     "text": [
      " "
     ]
    },
    {
     "name": "stderr",
     "output_type": "stream",
     "text": [
      "WARNING:datasets.arrow_dataset:Loading cached processed dataset at /scratch/kd1860/DSGA_1006_capstone/dataset/multi_news_test_pegasus/shard_3/cache-bb2deef81584f9d4.arrow\n"
     ]
    },
    {
     "name": "stdout",
     "output_type": "stream",
     "text": [
      " "
     ]
    },
    {
     "name": "stderr",
     "output_type": "stream",
     "text": [
      "WARNING:datasets.arrow_dataset:Loading cached processed dataset at /scratch/kd1860/DSGA_1006_capstone/dataset/multi_news_test_pegasus/shard_3/cache-2c64b96cdec29296.arrow\n"
     ]
    },
    {
     "name": "stdout",
     "output_type": "stream",
     "text": [
      " "
     ]
    },
    {
     "name": "stderr",
     "output_type": "stream",
     "text": [
      "WARNING:datasets.arrow_dataset:Loading cached processed dataset at /scratch/kd1860/DSGA_1006_capstone/dataset/multi_news_test_pegasus/shard_4/cache-4193ea2617dd8b17.arrow\n"
     ]
    }
   ],
   "source": [
    "pegasus_rouge = pegasus_result.map(cluster_mean_score, num_proc = 8)"
   ]
  },
  {
   "cell_type": "code",
   "execution_count": 42,
   "metadata": {},
   "outputs": [
    {
     "data": {
      "image/png": "[encoded data removed]",
      "text/plain": [
       "<Figure size 432x288 with 1 Axes>"
      ]
     },
     "metadata": {
      "needs_background": "light"
     },
     "output_type": "display_data"
    }
   ],
   "source": [
    "plt.bar(range(len(pegasus_rouge['cluster_rouge'][0])), pegasus_rouge['cluster_rouge'][0])\n",
    "plt.show()"
   ]
  },
  {
   "cell_type": "code",
   "execution_count": 159,
   "metadata": {},
   "outputs": [],
   "source": [
    "c_score = []\n",
    "c_len = []\n",
    "for row in pegasus_rouge['clustered_scores']:\n",
    "    for c in row:\n",
    "        c_score.append(np.mean(c))\n",
    "        c_len.append(len(c))\n"
   ]
  },
  {
   "cell_type": "code",
   "execution_count": 169,
   "metadata": {},
   "outputs": [
    {
     "data": {
      "text/plain": [
       "Text(0.5, 1.0, 'cluster rouge score distribution')"
      ]
     },
     "execution_count": 169,
     "metadata": {},
     "output_type": "execute_result"
    },
    {
     "data": {
      "image/png": "[encoded data removed]",
      "text/plain": [
       "<Figure size 432x288 with 1 Axes>"
      ]
     },
     "metadata": {
      "needs_background": "light"
     },
     "output_type": "display_data"
    }
   ],
   "source": [
    "plt.hist(c_score,range = (0,0.2), bins = 50)\n",
    "plt.xlabel(\"mean(rouge_score)\")\n",
    "plt.title(\"cluster rouge score distribution\")"
   ]
  },
  {
   "cell_type": "code",
   "execution_count": 170,
   "metadata": {},
   "outputs": [
    {
     "data": {
      "text/plain": [
       "Text(0.5, 1.0, 'cluster size distribution')"
      ]
     },
     "execution_count": 170,
     "metadata": {},
     "output_type": "execute_result"
    },
    {
     "data": {
      "image/png": "[encoded data removed]",
      "text/plain": [
       "<Figure size 432x288 with 1 Axes>"
      ]
     },
     "metadata": {
      "needs_background": "light"
     },
     "output_type": "display_data"
    }
   ],
   "source": [
    "plt.hist(c_len,range = (0,100), bins = 50)\n",
    "plt.xlabel(\"num_sentences\")\n",
    "plt.title(\"cluster size distribution\")"
   ]
  },
  {
   "cell_type": "code",
   "execution_count": 162,
   "metadata": {},
   "outputs": [
    {
     "data": {
      "image/png": "[encoded data removed]",
      "text/plain": [
       "<Figure size 432x288 with 1 Axes>"
      ]
     },
     "metadata": {
      "needs_background": "light"
     },
     "output_type": "display_data"
    }
   ],
   "source": [
    "plt.scatter(c_score,c_len)\n",
    "plt.ylabel('some numbers')\n",
    "plt.show()"
   ]
  },
  {
   "cell_type": "code",
   "execution_count": null,
   "metadata": {},
   "outputs": [],
   "source": []
  }
 ],
 "metadata": {
  "kernelspec": {
   "display_name": "my_env",
   "language": "python",
   "name": "my_env"
  },
  "language_info": {
   "codemirror_mode": {
    "name": "ipython",
    "version": 3
   },
   "file_extension": ".py",
   "mimetype": "text/x-python",
   "name": "python",
   "nbconvert_exporter": "python",
   "pygments_lexer": "ipython3",
   "version": "3.9.12"
  }
 },
 "nbformat": 4,
 "nbformat_minor": 4
}
