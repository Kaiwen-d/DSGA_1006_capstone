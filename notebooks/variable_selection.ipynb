{
 "cells": [
  {
   "cell_type": "code",
   "execution_count": 1,
   "metadata": {},
   "outputs": [
    {
     "name": "stdout",
     "output_type": "stream",
     "text": [
      "Defaulting to user installation because normal site-packages is not writeable\n",
      "Collecting datasets\n",
      "  Downloading datasets-2.6.1-py3-none-any.whl (441 kB)\n",
      "\u001B[K     |████████████████████████████████| 441 kB 17.4 MB/s eta 0:00:01\n",
      "\u001B[?25hCollecting aiohttp\n",
      "  Downloading aiohttp-3.8.3-cp38-cp38-manylinux_2_17_x86_64.manylinux2014_x86_64.whl (1.0 MB)\n",
      "\u001B[K     |████████████████████████████████| 1.0 MB 29.9 MB/s eta 0:00:01\n",
      "\u001B[?25hRequirement already satisfied: tqdm>=4.62.1 in /home/hw1685/.local/lib/python3.8/site-packages (from datasets) (4.64.1)\n",
      "Requirement already satisfied: packaging in /share/apps/python/3.8.6/intel/lib/python3.8/site-packages (from datasets) (20.4)\n",
      "Collecting dill<0.3.6\n",
      "  Downloading dill-0.3.5.1-py2.py3-none-any.whl (95 kB)\n",
      "\u001B[K     |████████████████████████████████| 95 kB 107 kB/s s eta 0:00:01\n",
      "\u001B[?25hRequirement already satisfied: numpy>=1.17 in /share/apps/python/3.8.6/intel/lib/python3.8/site-packages/numpy-1.19.2-py3.8-linux-x86_64.egg (from datasets) (1.19.2)\n",
      "Requirement already satisfied: pyyaml>=5.1 in /share/apps/python/3.8.6/intel/lib/python3.8/site-packages (from datasets) (5.3.1)\n",
      "Requirement already satisfied: requests>=2.19.0 in /share/apps/python/3.8.6/intel/lib/python3.8/site-packages (from datasets) (2.24.0)\n",
      "Requirement already satisfied: pandas in /share/apps/python/3.8.6/intel/lib/python3.8/site-packages (from datasets) (1.1.3)\n",
      "Collecting xxhash\n",
      "  Downloading xxhash-3.1.0-cp38-cp38-manylinux_2_17_x86_64.manylinux2014_x86_64.whl (212 kB)\n",
      "\u001B[K     |████████████████████████████████| 212 kB 97.0 MB/s eta 0:00:01\n",
      "\u001B[?25hCollecting fsspec[http]>=2021.11.1\n",
      "  Downloading fsspec-2022.11.0-py3-none-any.whl (139 kB)\n",
      "\u001B[K     |████████████████████████████████| 139 kB 127.6 MB/s eta 0:00:01\n",
      "\u001B[?25hCollecting responses<0.19\n",
      "  Downloading responses-0.18.0-py3-none-any.whl (38 kB)\n",
      "Collecting multiprocess\n",
      "  Downloading multiprocess-0.70.14-py38-none-any.whl (132 kB)\n",
      "\u001B[K     |████████████████████████████████| 132 kB 90.4 MB/s eta 0:00:01\n",
      "\u001B[?25hCollecting pyarrow>=6.0.0\n",
      "  Downloading pyarrow-10.0.0-cp38-cp38-manylinux_2_17_x86_64.manylinux2014_x86_64.whl (35.3 MB)\n",
      "\u001B[K     |████████████████████████████████| 35.3 MB 30.4 MB/s eta 0:00:01\n",
      "\u001B[?25hCollecting huggingface-hub<1.0.0,>=0.2.0\n",
      "  Using cached huggingface_hub-0.10.1-py3-none-any.whl (163 kB)\n",
      "Collecting yarl<2.0,>=1.0\n",
      "  Downloading yarl-1.8.1-cp38-cp38-manylinux_2_17_x86_64.manylinux2014_x86_64.whl (262 kB)\n",
      "\u001B[K     |████████████████████████████████| 262 kB 83.8 MB/s eta 0:00:01\n",
      "\u001B[?25hCollecting frozenlist>=1.1.1\n",
      "  Downloading frozenlist-1.3.3-cp38-cp38-manylinux_2_5_x86_64.manylinux1_x86_64.manylinux_2_17_x86_64.manylinux2014_x86_64.whl (161 kB)\n",
      "\u001B[K     |████████████████████████████████| 161 kB 44.0 MB/s eta 0:00:01\n",
      "\u001B[?25hRequirement already satisfied: attrs>=17.3.0 in /share/apps/python/3.8.6/intel/lib/python3.8/site-packages (from aiohttp->datasets) (20.2.0)\n",
      "Collecting multidict<7.0,>=4.5\n",
      "  Downloading multidict-6.0.2-cp38-cp38-manylinux_2_17_x86_64.manylinux2014_x86_64.whl (121 kB)\n",
      "\u001B[K     |████████████████████████████████| 121 kB 9.5 MB/s eta 0:00:01\n",
      "\u001B[?25hCollecting aiosignal>=1.1.2\n",
      "  Downloading aiosignal-1.3.1-py3-none-any.whl (7.6 kB)\n",
      "Collecting async-timeout<5.0,>=4.0.0a3\n",
      "  Downloading async_timeout-4.0.2-py3-none-any.whl (5.8 kB)\n",
      "Collecting charset-normalizer<3.0,>=2.0\n",
      "  Downloading charset_normalizer-2.1.1-py3-none-any.whl (39 kB)\n",
      "Requirement already satisfied: pyparsing>=2.0.2 in /share/apps/python/3.8.6/intel/lib/python3.8/site-packages (from packaging->datasets) (2.4.7)\n",
      "Requirement already satisfied: six in /share/apps/python/3.8.6/intel/lib/python3.8/site-packages (from packaging->datasets) (1.15.0)\n",
      "Requirement already satisfied: chardet<4,>=3.0.2 in /share/apps/python/3.8.6/intel/lib/python3.8/site-packages (from requests>=2.19.0->datasets) (3.0.4)\n",
      "Requirement already satisfied: certifi>=2017.4.17 in /share/apps/python/3.8.6/intel/lib/python3.8/site-packages (from requests>=2.19.0->datasets) (2020.6.20)\n",
      "Requirement already satisfied: urllib3!=1.25.0,!=1.25.1,<1.26,>=1.21.1 in /share/apps/python/3.8.6/intel/lib/python3.8/site-packages (from requests>=2.19.0->datasets) (1.25.10)\n",
      "Requirement already satisfied: idna<3,>=2.5 in /share/apps/python/3.8.6/intel/lib/python3.8/site-packages (from requests>=2.19.0->datasets) (2.10)\n",
      "Requirement already satisfied: pytz>=2017.2 in /share/apps/python/3.8.6/intel/lib/python3.8/site-packages (from pandas->datasets) (2020.1)\n",
      "Requirement already satisfied: python-dateutil>=2.7.3 in /share/apps/python/3.8.6/intel/lib/python3.8/site-packages (from pandas->datasets) (2.8.1)\n",
      "Requirement already satisfied: filelock in /share/apps/python/3.8.6/intel/lib/python3.8/site-packages (from huggingface-hub<1.0.0,>=0.2.0->datasets) (3.0.12)\n",
      "Requirement already satisfied: typing-extensions>=3.7.4.3 in /home/hw1685/.local/lib/python3.8/site-packages (from huggingface-hub<1.0.0,>=0.2.0->datasets) (4.4.0)\n",
      "Installing collected packages: multidict, yarl, frozenlist, aiosignal, async-timeout, charset-normalizer, aiohttp, dill, xxhash, fsspec, responses, multiprocess, pyarrow, huggingface-hub, datasets\n",
      "\u001B[31mERROR: After October 2020 you may experience errors when installing or updating packages. This is because pip will change the way that it resolves dependency conflicts.\n",
      "\n",
      "We recommend you use --use-feature=2020-resolver to test your packages with the new resolver before it becomes the default.\n",
      "\n",
      "multiprocess 0.70.14 requires dill>=0.3.6, but you'll have dill 0.3.5.1 which is incompatible.\n",
      "huggingface-hub 0.10.1 requires packaging>=20.9, but you'll have packaging 20.4 which is incompatible.\u001B[0m\n",
      "Successfully installed aiohttp-3.8.3 aiosignal-1.3.1 async-timeout-4.0.2 charset-normalizer-2.1.1 datasets-2.6.1 dill-0.3.5.1 frozenlist-1.3.3 fsspec-2022.11.0 huggingface-hub-0.10.1 multidict-6.0.2 multiprocess-0.70.14 pyarrow-10.0.0 responses-0.18.0 xxhash-3.1.0 yarl-1.8.1\n",
      "\u001B[33mWARNING: You are using pip version 20.2.3; however, version 22.3.1 is available.\n",
      "You should consider upgrading via the '/share/apps/python/3.8.6/intel/bin/python -m pip install --upgrade pip' command.\u001B[0m\n",
      "Defaulting to user installation because normal site-packages is not writeable\n",
      "Collecting rouge_score\n",
      "  Using cached rouge_score-0.1.2.tar.gz (17 kB)\n",
      "Requirement already satisfied: absl-py in /share/apps/python/3.8.6/intel/lib/python3.8/site-packages (from rouge_score) (0.13.0)\n",
      "Collecting nltk\n",
      "  Using cached nltk-3.7-py3-none-any.whl (1.5 MB)\n",
      "Requirement already satisfied: numpy in /share/apps/python/3.8.6/intel/lib/python3.8/site-packages/numpy-1.19.2-py3.8-linux-x86_64.egg (from rouge_score) (1.19.2)\n",
      "Requirement already satisfied: six>=1.14.0 in /share/apps/python/3.8.6/intel/lib/python3.8/site-packages (from rouge_score) (1.15.0)\n",
      "Collecting joblib\n",
      "  Using cached joblib-1.2.0-py3-none-any.whl (297 kB)\n",
      "Collecting regex>=2021.8.3\n",
      "  Downloading regex-2022.10.31-cp38-cp38-manylinux_2_17_x86_64.manylinux2014_x86_64.whl (772 kB)\n",
      "\u001B[K     |████████████████████████████████| 772 kB 19.4 MB/s eta 0:00:01\n",
      "\u001B[?25hRequirement already satisfied: click in /home/hw1685/.local/lib/python3.8/site-packages (from nltk->rouge_score) (8.1.3)\n",
      "Requirement already satisfied: tqdm in /home/hw1685/.local/lib/python3.8/site-packages (from nltk->rouge_score) (4.64.1)\n",
      "Building wheels for collected packages: rouge-score\n",
      "  Building wheel for rouge-score (setup.py) ... \u001B[?25ldone\n",
      "\u001B[?25h  Created wheel for rouge-score: filename=rouge_score-0.1.2-py3-none-any.whl size=24956 sha256=27d861d21a6bbdfbeffb5141a3cf38954f0ed8fff80ee7ba0dfb53319671966c\n",
      "  Stored in directory: /home/hw1685/.cache/pip/wheels/24/55/6f/ebfc4cb176d1c9665da4e306e1705496206d08215c1acd9dde\n",
      "Successfully built rouge-score\n",
      "Installing collected packages: joblib, regex, nltk, rouge-score\n",
      "Successfully installed joblib-1.2.0 nltk-3.7 regex-2022.10.31 rouge-score-0.1.2\n",
      "\u001B[33mWARNING: You are using pip version 20.2.3; however, version 22.3.1 is available.\n",
      "You should consider upgrading via the '/share/apps/python/3.8.6/intel/bin/python -m pip install --upgrade pip' command.\u001B[0m\n"
     ]
    }
   ],
   "source": [
    "!pip install datasets\n",
    "!pip install rouge_score"
   ]
  },
  {
   "cell_type": "code",
   "execution_count": 1,
   "metadata": {},
   "outputs": [],
   "source": [
    "import numpy as np\n",
    "from matplotlib import pyplot as plt"
   ]
  },
  {
   "cell_type": "code",
   "execution_count": 2,
   "metadata": {},
   "outputs": [
    {
     "name": "stderr",
     "output_type": "stream",
     "text": [
      "/ext3/miniconda3/lib/python3.9/site-packages/tqdm/auto.py:22: TqdmWarning: IProgress not found. Please update jupyter and ipywidgets. See https://ipywidgets.readthedocs.io/en/stable/user_install.html\n",
      "  from .autonotebook import tqdm as notebook_tqdm\n"
     ]
    },
    {
     "data": {
      "text/plain": [
       "Dataset({\n",
       "    features: ['document', 'summary', 'rouge_scores', 'entity_counts'],\n",
       "    num_rows: 1125\n",
       "})"
      ]
     },
     "execution_count": 2,
     "metadata": {},
     "output_type": "execute_result"
    }
   ],
   "source": [
    "from datasets import load_from_disk\n",
    "scored_dataset = load_from_disk(\"/scratch/kd1860/DSGA_1006_capstone/dataset/processed_shards/shard_10\")\n",
    "scored_dataset"
   ]
  },
  {
   "cell_type": "code",
   "execution_count": 3,
   "metadata": {},
   "outputs": [
    {
     "data": {
      "image/png": "[encoded data removed]",
      "text/plain": [
       "<Figure size 640x480 with 1 Axes>"
      ]
     },
     "metadata": {},
     "output_type": "display_data"
    }
   ],
   "source": [
    "rouge_score_all = np.array([item for sublist in scored_dataset['rouge_scores'] for item in sublist])\n",
    "\n",
    "plt.hist(rouge_score_all, bins=50, alpha=0.5)\n",
    "plt.xlim([min(rouge_score_all)-0.01, max(rouge_score_all)])\n",
    "plt.ylabel('count')\n",
    "plt.show()"
   ]
  },
  {
   "cell_type": "code",
   "execution_count": 4,
   "metadata": {},
   "outputs": [
    {
     "data": {
      "text/plain": [
       "0.4798583520469857"
      ]
     },
     "execution_count": 4,
     "metadata": {},
     "output_type": "execute_result"
    }
   ],
   "source": [
    "len(rouge_score_all[np.where(rouge_score_all>0.01)])/len(rouge_score_all)"
   ]
  },
  {
   "cell_type": "code",
   "execution_count": 7,
   "metadata": {},
   "outputs": [],
   "source": [
    "import spacy\n",
    "nlp = spacy.load(\"en_core_web_sm\")\n"
   ]
  },
  {
   "cell_type": "code",
   "execution_count": 11,
   "metadata": {},
   "outputs": [
    {
     "data": {
      "text/plain": [
       "1125"
      ]
     },
     "execution_count": 11,
     "metadata": {},
     "output_type": "execute_result"
    }
   ],
   "source": [
    "# text = nlp(scored_dataset['document'])\n",
    "len(scored_dataset['document'])"
   ]
  },
  {
   "cell_type": "code",
   "execution_count": 35,
   "metadata": {},
   "outputs": [
    {
     "data": {
      "text/plain": [
       "\"||||| After both Jennifer Aniston and Matt Lauer nominated him, Howard Stern finally accepted the Ice Bucket Challenge - and you won't believe who he nominated! \\n \\n \""
      ]
     },
     "execution_count": 35,
     "metadata": {},
     "output_type": "execute_result"
    }
   ],
   "source": [
    "doc = nlp(scored_dataset[\"document\"][0])\n",
    "sentences = list(str(i) for i in doc.sents)\n",
    "sentences[7]\n"
   ]
  },
  {
   "cell_type": "code",
   "execution_count": 36,
   "metadata": {},
   "outputs": [
    {
     "data": {
      "text/plain": [
       "\"After both Jennifer Aniston and Matt Lauer nominated him, Howard Stern finally accepted the Ice Bucket Challenge - and you won't believe who he nominated!\""
      ]
     },
     "execution_count": 36,
     "metadata": {},
     "output_type": "execute_result"
    }
   ],
   "source": [
    "sentences[7].strip().strip('||||| ')"
   ]
  },
  {
   "cell_type": "code",
   "execution_count": 39,
   "metadata": {},
   "outputs": [
    {
     "ename": "IndexError",
     "evalue": "boolean index did not match indexed array along dimension 0; dimension is 10 but corresponding boolean dimension is 115780",
     "output_type": "error",
     "traceback": [
      "\u001B[0;31m---------------------------------------------------------------------------\u001B[0m",
      "\u001B[0;31mIndexError\u001B[0m                                Traceback (most recent call last)",
      "Input \u001B[0;32mIn [39]\u001B[0m, in \u001B[0;36m<cell line: 1>\u001B[0;34m()\u001B[0m\n\u001B[0;32m----> 1\u001B[0m \u001B[43mnp\u001B[49m\u001B[38;5;241;43m.\u001B[39;49m\u001B[43marray\u001B[49m\u001B[43m(\u001B[49m\u001B[43msentences\u001B[49m\u001B[43m)\u001B[49m\u001B[43m[\u001B[49m\u001B[43mrouge_score_all\u001B[49m\u001B[38;5;241;43m>\u001B[39;49m\u001B[38;5;241;43m0.01\u001B[39;49m\u001B[43m]\u001B[49m\n",
      "\u001B[0;31mIndexError\u001B[0m: boolean index did not match indexed array along dimension 0; dimension is 10 but corresponding boolean dimension is 115780"
     ]
    }
   ],
   "source": []
  },
  {
   "cell_type": "code",
   "execution_count": 65,
   "metadata": {},
   "outputs": [
    {
     "data": {
      "text/plain": [
       "array(['\\n \\n ', '\\n \\n ', '\\n \\n ', '\\n \\n ',\n",
       "       'Curtis Dawkins with his children in 2003.',\n",
       "       'Photograph: pr \\n \\n ',\n",
       "       'Given the opportunity, Bowman said, he’d administer it himself. \\n \\n ',\n",
       "       '\\n \\n ', '\\n \\n ', '\\n \\n ', '\\n \\n ',\n",
       "       'But until the legal matter is resolved, Dawkins’ finances are effectively frozen.',\n",
       "       '\\n \\n '], dtype='<U349')"
      ]
     },
     "execution_count": 65,
     "metadata": {},
     "output_type": "execute_result"
    }
   ],
   "source": [
    "n = 3\n",
    "doc1_score = np.array(scored_dataset['rouge_scores'][n])\n",
    "doc = nlp(scored_dataset[\"document\"][n])\n",
    "sentences = list(str(i) for i in doc.sents)\n",
    "np.array(sentences)[doc1_score<0.01]"
   ]
  },
  {
   "cell_type": "code",
   "execution_count": 62,
   "metadata": {},
   "outputs": [
    {
     "data": {
      "text/plain": [
       "['Dell is bound and determined to show that it can be a bigger player in the consumer market.',\n",
       " 'The company also is trying to shake its reputation for stodgy design. \\n \\n ',\n",
       " 'I’ve been testing two new Dells that aim to prove both points.',\n",
       " 'One is a pricey, style-conscious, ultrathin laptop; the other is an economical all-in-one desktop with an optional touch screen that lets you flick through pictures, music and video, and perform other tasks, with just your fingers.',\n",
       " '\\n \\n ',\n",
       " 'Both computers, the Adamo laptop and the Studio One 19 desktop, are attractive and functional.',\n",
       " 'But neither is ground-breaking.',\n",
       " 'The laptop is a belated competitor to superthin, high-end machines like Apple’s (AAPL) MacBook Air and Lenovo’s ThinkPad X300 series.',\n",
       " 'The desktop is a belated competitor to Hewlett-Packard’s (HPQ) TouchSmart touch-screen series.',\n",
       " '\\n \\n ',\n",
       " 'Before getting into the physical attributes of these computers, a major caveat is in order: Both run Microsoft’s (MSFT) sluggish, annoying Windows Vista operating system.',\n",
       " 'That puts them at a disadvantage to computers using the faster Microsoft Windows XP, or Apple’s superior Leopard operating system. \\n \\n ',\n",
       " 'The Studio One is handsome — bordered with cloth, wrap-around trim in red, blue, white or other colors.',\n",
       " 'And its optional touch screen is a sexy feature, complemented by special Dell touch software called the Touch Zone.',\n",
       " 'Perhaps its most striking attribute is price.',\n",
       " 'You can get one for as little as $699, far below the $1,200 base price of the H-P TouchSmart. \\n \\n ',\n",
       " 'However, there’s a catch to this low price.',\n",
       " 'The $699 base model lacks the touch screen.',\n",
       " 'That costs $100 extra.',\n",
       " 'Also, all of the Studio One 19 models — even those configured to cost more than $1,000 — have a relatively small screen: just 18.5 inches.',\n",
       " 'The base model of the H-P has a 22-inch screen.',\n",
       " '\\n \\n Dell (DELL) says it deliberately made the Studio One smaller so it would fit on a kitchen counter, where family members can walk up to it and use it as a kiosk for viewing photos, surfing the Web and performing other tasks.',\n",
       " 'It even comes with a family calendar program, called Cozi; a touch-based notepad feature for leaving messages; and an appealing finger-painting program for kids.',\n",
       " '\\n \\n ',\n",
       " 'In my tests, all worked pretty well, and the touch features also work in regular Windows programs, not just in the Touch Zone.',\n",
       " 'The only downside of this latter capability is that, to make touch control easier, Dell has blown up the text and graphics in Vista, with the unfortunate side effect of making some program icons look jagged and fuzzy.',\n",
       " '(You can turn this effect off.) \\n \\n ',\n",
       " 'As for the kitchen scenario, I have my doubts.',\n",
       " 'In my kitchen, the Studio One took up precious counter space — it’s as wide as my microwave — and the wired keyboard and mouse on the cheaper models clutter up the counter. \\n \\n ',\n",
       " 'On the other hand, there’s nothing cluttered about Dell’s new Adamo laptop.',\n",
       " 'Like the MacBook Air, the Adamo uses a solid metal case and a sealed battery, and it simultaneously projects sleekness and solidity.',\n",
       " 'It’s gorgeous, in both its black and white versions, and feels great in the hand.',\n",
       " 'If the label was hidden, you’d think it was from Sony (SNE) or Apple, not Dell. \\n \\n ',\n",
       " 'Like the Air and the ThinkPad 300 series, the Adamo uses a screen that’s about 13 inches, with good resolution.',\n",
       " 'And, like its two competitors, it’s very thin.',\n",
       " 'In fact, the Adamo is thinner than the tapered Air at the latter’s thickest point.',\n",
       " 'The Adamo also has a far better selection of built-in ports than its Apple rival, though almost all are inconveniently placed in a protruding strip at the back of the machine.',\n",
       " '\\n \\n ',\n",
       " 'Also, like the Air, the Adamo has touch features built into its trackpad.',\n",
       " 'It has a built-in solid-state drive, like the Apple and the Lenovo.',\n",
       " 'Such drives are faster and use less power than regular hard disks, but cost more.',\n",
       " 'Also like the Air, it lacks a DVD drive.',\n",
       " '\\n \\n \\n \\n \\n \\n ',\n",
       " 'Dell’s Studio One 19 desktop Dell’s Studio One 19 desktop \\n \\n In my tests, the Adamo performed fine, and drew admiring glances wherever I took it.',\n",
       " 'But the Adamo has three big flaws.',\n",
       " '\\n \\n ',\n",
       " 'First, it’s expensive for these economic times — $2,000 with a 128-gigabyte drive and two gigabytes of memory.',\n",
       " 'The Air can be bought for $1,800, with a slightly smaller regular hard disk.',\n",
       " 'With the same size solid-state drive as the Adamo, the Air is $500 more.',\n",
       " '\\n \\n ',\n",
       " 'Second, for all its thinness, the Adamo is relatively heavy.',\n",
       " 'It weighs four pounds, versus three pounds for the Air. \\n \\n ',\n",
       " 'Finally, it has mediocre battery life.',\n",
       " 'In my tough battery test, where I turn off all power-saving features, leave on Wi-Fi, and play an endless loop of music, the Adamo got just 2 hours and 44 minutes, which likely translates in normal use to maybe 3.5 hours.',\n",
       " 'By contrast, the Air lasted 40 minutes longer in the same test, and the Lenovo beat the Dell by 21 minutes. \\n \\n ',\n",
       " 'With these machines, Dell is making a strong bid to win back consumers’ hearts.',\n",
       " 'It’s off to a decent start.',\n",
       " '\\n \\n Find all of Walt Mossberg’s columns and videos online, free, at the All Things Digital Web site, walt.allthingsd.com.',\n",
       " 'Email him at mossberg@wsj.com.',\n",
       " '||||| Software \\n \\n Browser \\n \\n Sunspider Results (lower is better)',\n",
       " 'Apple iPad 2 (iOS 4.3)',\n",
       " '2173.1ms Apple iPad (iOS 4.2.1)',\n",
       " '8207.0ms Apple iPad (iOS 4.3) 3484.7ms Apple iPhone 4 (iOS 4.2.1)',\n",
       " '10291.4ms Apple iPhone 4 (iOS 4.3)',\n",
       " '4052.2ms Motorola Xoom 2141.8ms',\n",
       " 'Motorola Atrix 4G 4100.6ms \\n \\n FaceTime / Photo Booth \\n \\n GarageBand \\n \\n \\n \\n \\n \\n iMovie \\n \\n AirPlay / HDMI adapter /',\n",
       " 'Smart Cover \\n \\n Wrap-up \\n \\n Even with the lower quality sensors, Apple still gets to span the gap between the original iPad and its new competition -- so that means video calling is now on tap.',\n",
       " 'And since this is Apple, we get treated to a FaceTime app, Photo Booth, and the new iMovie (more on those in a moment).',\n",
       " \"At the end of the day, the company is putting its flag in the ground when it comes to tablets with cameras, but it feels like it's done the bare minimum to make it happen.\",\n",
       " \"We won't lie: we're disappointed by how low end these cameras feel.\",\n",
       " \"We don't expect to be doing photo shoots with a tablet (in fact, we find using a tablet in this manner to be tremendously awkward), but that doesn't mean we want a camera that produces results reminiscent of our RAZR.\",\n",
       " 'In short, it feels like the iPad 2 has a serious photon deficiency.',\n",
       " \"It wouldn't be a new iOS product without an iOS update, and the iPad 2 ushers in iOS 4.3, a minor update which touts a few bells and whistles.\",\n",
       " 'Notably, Apple has improved browser performance, added broader AirPlay support, mercifully added an option to toggle your mute switch for rotation lock duties, and (on the iPhone at least) brought Personal Hotspot to GSM devices (but not the iPad 2).Alongside the iPad update, Apple also introduced two fairly major pieces of software -- GarageBand and iMovie for the iPad.',\n",
       " \"Here's our take on those apps, as well some of the other big additions.\",\n",
       " 'Apple claims big gains in the speed and performance of the new iOS browser thanks to the introduction of the Nitro JavaScript engine to the underlying Mobile Safari software.',\n",
       " \"In our testing, we scored a fairly healthy Sunspider number of 2173.1ms (while Google's V8 returned a score of 338).\",\n",
       " 'Nothing to freak out about in comparison to the laptop numbers below -- but compare those digits to the iPhone 4 and original iPad running 4.2.',\n",
       " \"Of course, the Motorola Xoom is neck and neck with the iPad 2 in terms of browser performance, which shows that speed is most certainly not Apple's domain alone.\",\n",
       " \"In general use, we found the browser to be noticeably faster and more responsive than on the previous iPad, which is a good thing considering that the browsing experience still doesn't quite give you a desktop experience.\",\n",
       " \"That said, the iPad 2 gets a lot closer to the speed and fluidity you see on your laptop -- and it's obvious Apple is putting time and effort into making this complete.\",\n",
       " 'We still have to take issue with the lack of Flash, however.',\n",
       " \"Though many sites have begun to employ HTML5 for video and interactive elements, there's still loads of content we couldn't view because Apple won't allow Flash on its platform.\",\n",
       " \"We're not saying that we think the experience will be killer (though we've seen good Flash performance on a jailbroken iPad), but the option to turn it on and off would really be welcome.\",\n",
       " \"As you might expect, the FaceTime experience on the iPad isn't wildly different than the experience on an iPhone or OS X computer.\",\n",
       " \"Though the layout is different, you're getting basically the same results.\",\n",
       " \"As with the phone, you're unable to use the service when not on WiFi, but given that you're dealing with a tablet as opposed to a handset, it seems to make a little more sense.\",\n",
       " \"Results were unsurprising but satisfying with the video calls we placed, but again, those cameras don't produce stunning images -- especially when you're piping video in both directions.\",\n",
       " 'Photo Booth, on the other hand, has gone from a minor sideshow in OS X to a full blown event app on the iPad 2.',\n",
       " \"The device's A5 CPU seems to have little trouble cranking out nine separate, live video previews of the kinds of effects you can do in the app, and when you're in full screen mode, you can tweak the silly-yet-often-psychedelic graphics to your heart's content.\",\n",
       " \"It's not something that is wildly useful, but we imagine a lot of people will be walking out of Apple stores with an iPad 2 in hand after playing around with this for a few minutes.\",\n",
       " \"It's just kind of cool.\",\n",
       " 'Coming from a background in professional audio production, our initial reaction to GarageBand was one of heavy skepticism -- but that attitude changed pretty quickly.',\n",
       " 'The $4.99 piece of software offers eight tracks of recorded audio or software instruments, along with the ability to mix your levels, add effects, and even apply amps and stompboxes to your tracks.',\n",
       " 'The software also features a library of preset loops, along with options to sample audio and create your own playable instruments.',\n",
       " \"We were immediately impressed with the layout and thoughtfulness that's obviously gone into this app; it doesn't feel like a watered down version of the desktop application -- it feels like a whole new game.\",\n",
       " \"Creating tracks and recording pieces for a song couldn't have been easier, and the provided software instruments provide myriad options when it comes to sound creation and manipulation.\",\n",
       " 'Besides the standard selection of pianos, keyboards, and drum kits, Apple has also introduced an ingenious (and sure to be maddening to some) set of instruments called Smart Instruments.',\n",
       " \"Smart Instruments work in a kind of uncanny way; if you're using the guitar setting in this mode, you're presented with what looks like the neck of a guitar and a spread of preset chords.\",\n",
       " 'You can pick or strum the instrument as you would an actual guitar and the results are surprisingly, disarmingly lifelike.',\n",
       " \"If you're really not musically inclined, you can have the guitar basically play itself for you while you switch between styles and chords.\",\n",
       " 'We were amused by the latter option, but completely hooked on the former.',\n",
       " 'We would like to see Apple add options to let users define their own chords, which would open up tons of options and really let musicians get creative, but this is an excellent start to a completely new concept in music-making.',\n",
       " 'There are also Smart Instruments for piano / keyboards (a little more hands-off than the guitar variation), and drums.',\n",
       " 'The drum Smart Instrument allows you to mix and match specific drums on a grid which represents volume and pattern, allowing you to create fascinating combinations of rhythms just by dragging and dropping your kicks, snares, and hi-hats.',\n",
       " \"Again, we'd like to see Apple allow for user-definable patterns here, but there's lots to like and explore for musicians and non-musicians alike.\",\n",
       " \"In the pattern mode, you're able to draw out and sequence complete songs with your eight tracks.\",\n",
       " \"Apple takes an approach here that's a bit strange, asking you to duplicate or extend each set of patterns as a section, but once you get the hang of it, it starts to make sense.\",\n",
       " 'We would like to see some options for being able to edit specific note data as well -- as it stands, Apple only allows you to re-record a part, not fix or alter notes within the part.',\n",
       " 'Overall, this is a groundbreaking piece of software for tablets.',\n",
       " \"It wasn't without issues -- in fact, we had some major, system-stalling crashes which required a reboot of the iPad.\",\n",
       " \"It's clear that there are bugs to be worked out, and that despite that A5 CPU and increased memory, a music tracking and arranging app remains a fairly heavy piece of code.\",\n",
       " 'Still, we found ourselves completely fascinated by GarageBand and unable to put it down.',\n",
       " \"Whether you're tinkering, writing, or recording, this software's value will be clear right from the start.\",\n",
       " \"Here's a couple of quickly thrown together originals -- the first was made almost entirely while on a plane.iMovie for the iPad wasn't quite the revelatory experience that GarageBand was, but the application provides loads of utility for video editing on the go -- and it does it on the cheap, clocking in at just $4.99.\",\n",
       " \"In a kind of blown-up version of the iPhone app, iMovie now lets you edit both videos you've shot on the device and imported files in a touchy-feely environment that's actually more intuitive than its desktop counterpart -- at least in a some ways.\",\n",
       " 'As with other versions of the software, you get a set of movie templates and associated effects which you can apply to your clips.',\n",
       " 'Editing is a new experience -- all swipes and gestures -- but surprisingly simple.',\n",
       " \"There aren't a slew of options for transitions or effects, but the raw materials provided are more than enough to create competent work, especially if you're editing together family vacations or first birthday parties.\",\n",
       " \"We would like to see some better options for dealing with audio (cross fades and proper iMovie style volume curves would be great), but we're sure people will come up with some very interesting work despite the limitations of the app.\",\n",
       " \"You can immediately export and upload your content to a variety of sources, including YouTube, Vimeo, CNN's iReport, and Facebook.\",\n",
       " 'And yes, you can do it in HD.',\n",
       " 'In our experience, the process worked flawlessly.',\n",
       " 'The version of iMovie we tested -- like GarageBand -- was slightly buggy and prone to full on crashes while we were editing, and we did have to backtrack and recreate some of our edits after one of the crashes.',\n",
       " \"It wasn't tragic (no actual content was lost), but we're hoping Apple takes a long look at the bug reports which are sure to pour in.\",\n",
       " \"Despite that issue, however, you simply can't beat the utility of this app at what is an astounding price point.\",\n",
       " 'AirPlay has now been expanded to work with more applications, which means developers can plug into the API to get video (and more) out to TV screens anywhere an Apple TV is located.',\n",
       " \"That's nice, but until people start taking advantage of it, there aren't a ton of places you can use it right now.\",\n",
       " \"You can, however, stream all H.264 video from websites, and you can now access photos and video you've shot on your device that live in your camera roll.\",\n",
       " \"If you're really serious about getting video out to your TV, you'll want to pick up Apple's new HDMI dongle ($39), which allows you to plug directly into your HDTV (and has a spot for your dock connector as well).\",\n",
       " \"It's a pretty odd product, considering that you've got to have your HDMI cable stretched across your living room.\",\n",
       " \"Unless of course, you're just dropping your iPad off by the TV to watch some content, and never pausing or skipping anything.\",\n",
       " 'That said, the adapter worked flawlessly, and when we had HD video running on the iPad 2, it sent that content to the TV with no trouble whatsoever.',\n",
       " \"The other accessories of note are Apple's Smart Covers.\",\n",
       " 'These ingenious little flaps are basically screen protectors with a set of smart magnets along the side -- instead of wrapping around your iPad or hanging onto the device with unsightly hooks or straps, Apple has devised a method for attaching the cover with well placed magnets.',\n",
       " \"It's hard to explain how the covers work, but the effect is surprising when you first see it; the magnets just seem to know where to go.\",\n",
       " 'It is a neat trick, and the covers (which come in polyurethane for $39 and leather varieties at $69) do an excellent job of keeping your screen protected.',\n",
       " 'The covers also can put your device to sleep and wake it up as you close or open the flaps -- and it can be folded over on itself to be used as a stand in a variety of positions.',\n",
       " 'The accessories also have a microfiber lining, which supposedly helps keep your screen clean.',\n",
       " \"But of course, there's more to the iPad than just a screen, and our test device actually got a nasty scratch on the back because there was nothing there to protect it.\",\n",
       " \"We love the convenience of the Smart Cover and the way it looks, but if you're seriously concerned about the entire iPad (and not just the display), you might want to check out other options.\",\n",
       " \"It might frustrate the competition to hear this, but it needs to be said: the iPad 2 isn't just the best tablet on the market, it feels like the only tablet on the market.\",\n",
       " \"As much as we'd like to say that something like the Xoom has threatened Apple's presence in this space, it's difficult (if not impossible) to do that.\",\n",
       " 'Is the iPad 2 a perfect product?',\n",
       " 'Absolutely not.',\n",
       " \"The cameras are severely lacking, the screen -- while extremely high quality -- is touting last year's spec, and its operating system still has significant annoyances, like the aggravating pop-up notifications.\",\n",
       " \"At a price point of $499, and lots of options after that (like more storage and models that work on both Verizon's and AT&T's 3G networks), there's little to argue about in the way of price, and in terms of usability, apps like GarageBand prove that we haven't even scratched the surface of what the iPad can do.\",\n",
       " \"For owners of the previous generation, we don't think Apple's put a fire under you to upgrade.\",\n",
       " \"Unless you absolutely need cameras on your tablet, you've still got a solid piece of gear that reaps plenty of the benefits of the latest OS and apps.\",\n",
       " \"For those of you who haven't yet made the leap, feel free to take a deep breath and dive in -- the iPad 2 is as good as it gets right now.\",\n",
       " \"And it's really quite good.\",\n",
       " '||||| Dear technology journalists of the world: You know how you called that gadget you just reviewed sexy?',\n",
       " 'Tell me, do you intend to fuck it, or do you simply plan to shove it up your ass? \\n \\n ',\n",
       " '\"Sexy.\"',\n",
       " 'You see it applied to non-human objects all the time, but especially electronics.',\n",
       " 'And the thing is, those writing it almost never mean it.',\n",
       " 'When a writer unleashes \"sexy,\" more often than not what is meant is \"desirable.\"',\n",
       " \"And because sexual desire is something that almost all adults can understand, it's commonly applied.\",\n",
       " 'Easy! \\n \\n ',\n",
       " 'Yet what once may have been original is at this point just a horrible cliché.',\n",
       " \"It's a crutch too frequently applied, even by the biggest names in the business.\",\n",
       " 'And I doubt that it is ever meant sincerely. \\n \\n ',\n",
       " 'Walt Mossberg!',\n",
       " 'Please explain to me exactly how you intend to use this Dell touch screen in a sexually stimulating way!',\n",
       " 'David Pogue!',\n",
       " 'Where, exactly, did you put your penis in this Macbook Air?',\n",
       " 'Joshua Topolsky!',\n",
       " 'I know it is significantly smaller than the original, but, I am genuinely flummoxed, how in the world did you fit an iPad2 in your ass? \\n \\n ',\n",
       " 'Now look, gadgets can have certain attributes that might be considered legitimately sexy by some—for example you may find yourself taking intentional wrong turns, again and again, all around your neighborhood late at night, listening to the disembodied voice from your GPS telling you to turn right, turn left, go straight, you naughty thing, you—but these tend to be human attributes.',\n",
       " 'It could be a voice, an avatar, perhaps even a texture. \\n \\n ',\n",
       " 'Or maybe you are writing about the Fleshlight, or some other sexual stimulation device.',\n",
       " 'You can call that sexy, go right ahead!',\n",
       " 'I might personally feel a little sad for you, but you are using the word correctly. \\n \\n ',\n",
       " 'Or maybe you actually do want to get it on with your iPhone.',\n",
       " 'Maybe you really do find vaporware coffeemakers sexually stimulating.',\n",
       " \"That's fine!\",\n",
       " 'No judgement from me.',\n",
       " 'Rule 34 and all that.',\n",
       " 'But make it clear.',\n",
       " 'Let your readers know that you plan to make sweet, sweet love to that all-in-one printer.',\n",
       " '\\n \\n ',\n",
       " \"Otherwise it's just bad writing.\",\n",
       " \"It's lazy.\",\n",
       " \"It means you don't give a damn about your audience.\",\n",
       " \"It means you don't care enough to try and use a real descriptor.\",\n",
       " \"It means you can't be bothered to come up with an actual description of what you like about something, so you're just going to call it sexy. \\n \\n \",\n",
       " 'While this post is directed at writers, we need help from readers in order to make this happen.',\n",
       " 'So to you, dear reader, I exhort you: The next time you see a professional writer refer to an inanimate object full of circuitry and cadmium as \"sexy,\" please inquire as to whether said writer does in fact find it to be arousing. \\n \\n ',\n",
       " 'Yes, okay!',\n",
       " 'We have done it on this very site.',\n",
       " 'Mea culpas!',\n",
       " \"Change must start at home, so we're ending the practice now.\",\n",
       " \"You'll not see it used here improperly again.\",\n",
       " 'We challenge the rest of our community to also stop using the word sexy to describe gadgets unless you intend to fuck them. \\n \\n ',\n",
       " 'And if that is what you mean, please post pictures. \\n \\n ',\n",
       " '[Photo by Shutterstock]']"
      ]
     },
     "execution_count": 62,
     "metadata": {},
     "output_type": "execute_result"
    }
   ],
   "source": [
    "sentences"
   ]
  },
  {
   "cell_type": "code",
   "execution_count": 60,
   "metadata": {},
   "outputs": [
    {
     "data": {
      "text/plain": [
       "\"Rachael D'Amore, CTV Toronto The Toronto District School Board will join other schools in southwestern Ontario who have decided to cancel trips to the U.S., citing concerns over muddled U.S. border restrictions.\""
      ]
     },
     "execution_count": 60,
     "metadata": {},
     "output_type": "execute_result"
    }
   ],
   "source": [
    "sentences[0].replace(\"\\n \", '')"
   ]
  },
  {
   "cell_type": "code",
   "execution_count": null,
   "metadata": {},
   "outputs": [],
   "source": []
  }
 ],
 "metadata": {
  "kernelspec": {
   "display_name": "my_env",
   "language": "python",
   "name": "my_env"
  },
  "language_info": {
   "codemirror_mode": {
    "name": "ipython",
    "version": 3
   },
   "file_extension": ".py",
   "mimetype": "text/x-python",
   "name": "python",
   "nbconvert_exporter": "python",
   "pygments_lexer": "ipython3",
   "version": "3.9.12"
  }
 },
 "nbformat": 4,
 "nbformat_minor": 4
}